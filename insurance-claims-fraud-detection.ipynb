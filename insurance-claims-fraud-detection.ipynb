{
 "cells": [
  {
   "cell_type": "markdown",
   "metadata": {},
   "source": [
    "## SMM768 Applied Deep Learning Group Assignment - Group 9"
   ]
  },
  {
   "cell_type": "markdown",
   "metadata": {},
   "source": [
    "1. Briefly discuss why it is more difficult to find a good classifier on such a dataset than on one where, for example, 5,000 claims are fraudulent, and 5,000 are not. In particular, consider what happens when undetected fraudulent claims are very costly to the insurance company."
   ]
  },
  {
   "cell_type": "markdown",
   "metadata": {},
   "source": [
    "Our dataset is an imbalanced dataset where the number of observations in the dataset for each class is uneven and the class distribution is severely skewed. Most of the machine learning algorithims for classification were built around the assumption of an equal class distribution in order to have an accurate prediction for both classes. A model built from an imbalanced training data will classify all test instances to the majority class and results in a classifier where the predictive performance is inaccurate for the minority class. In the context of insurance company, if the majority class is \"non-fraudulent\" in the data, the classifier would predict every claims to be non-fraudulent and never detect a fraud. This can increase the loss of the company continuously and drive insurance prices more expensive for every policy holder. "
   ]
  },
  {
   "cell_type": "markdown",
   "metadata": {},
   "source": [
    "2.  Load the dataset \"Insurance_claims.csv\" and clean it as appropriate for use with machine learning algorithms. A description of the features can be found at the end of this document."
   ]
  },
  {
   "cell_type": "code",
   "execution_count": 262,
   "metadata": {
    "ExecuteTime": {
     "end_time": "2022-03-09T12:17:38.388827Z",
     "start_time": "2022-03-09T12:17:38.381863Z"
    }
   },
   "outputs": [],
   "source": [
    "import numpy as np\n",
    "import pandas as pd\n",
    "from sklearn.model_selection import train_test_split\n",
    "import matplotlib.pyplot as plt\n",
    "import seaborn as sns"
   ]
  },
  {
   "cell_type": "code",
   "execution_count": 263,
   "metadata": {
    "ExecuteTime": {
     "end_time": "2022-03-09T12:17:41.876302Z",
     "start_time": "2022-03-09T12:17:41.740489Z"
    }
   },
   "outputs": [],
   "source": [
    "# load the dataset\n",
    "claims = pd.read_csv('Insurance_claims.csv')"
   ]
  },
  {
   "cell_type": "code",
   "execution_count": 264,
   "metadata": {
    "ExecuteTime": {
     "end_time": "2022-03-09T12:17:45.589441Z",
     "start_time": "2022-03-09T12:17:45.580070Z"
    }
   },
   "outputs": [],
   "source": [
    "# drop unnecessary columns\n",
    "claims = claims.drop(['PolicyholderNumber', 'FirstPartyVehicleNumber', 'ThirdPartyVehicleNumber', 'InsurerNotes'], axis = 1)"
   ]
  },
  {
   "cell_type": "code",
   "execution_count": 265,
   "metadata": {
    "ExecuteTime": {
     "end_time": "2022-03-09T12:17:49.152987Z",
     "start_time": "2022-03-09T12:17:49.132185Z"
    }
   },
   "outputs": [
    {
     "data": {
      "text/plain": [
       "PolicyholderOccupation              True\n",
       "LossDate                           False\n",
       "FirstPolicySubscriptionDate        False\n",
       "ClaimCause                          True\n",
       "ClaimInvolvedCovers                 True\n",
       "DamageImportance                    True\n",
       "FirstPartyVehicleType               True\n",
       "ConnectionBetweenParties            True\n",
       "PolicyWasSubscribedOnInternet      False\n",
       "NumberOfPoliciesOfPolicyholder     False\n",
       "FpVehicleAgeMonths                  True\n",
       "EasinessToStage                    False\n",
       "ClaimWihoutIdentifiedThirdParty    False\n",
       "ClaimAmount                        False\n",
       "LossHour                            True\n",
       "PolicyHolderAge                     True\n",
       "NumberOfBodilyInjuries             False\n",
       "FirstPartyLiability                False\n",
       "Fraud                              False\n",
       "LossAndHolderPostCodeSame          False\n",
       "dtype: bool"
      ]
     },
     "execution_count": 265,
     "metadata": {},
     "output_type": "execute_result"
    }
   ],
   "source": [
    "# check NA values\n",
    "claims.isna().any()"
   ]
  },
  {
   "cell_type": "code",
   "execution_count": 266,
   "metadata": {
    "ExecuteTime": {
     "end_time": "2022-03-09T12:17:52.496822Z",
     "start_time": "2022-03-09T12:17:52.396684Z"
    }
   },
   "outputs": [],
   "source": [
    "# fillna for the following categorical variables:\n",
    "cat_list = [\"PolicyholderOccupation\", \"ClaimCause\", \"ClaimInvolvedCovers\", \n",
    "    \"DamageImportance\", \"FirstPartyVehicleType\", \"ConnectionBetweenParties\"]\n",
    "\n",
    "for cat in cat_list:\n",
    "    claims[cat] = claims[cat].fillna(\"Not Given\")\n",
    "    claims[cat] = pd.Categorical(claims[cat])\n",
    "\n",
    "# create a reference table to each variable\n",
    "a = claims.PolicyholderOccupation.value_counts().index.tolist()\n",
    "b = claims.PolicyholderOccupation.cat.codes.value_counts().index.tolist()\n",
    "PolicyholderOccupation_codelist = pd.DataFrame(a,b)\n",
    "\n",
    "a = claims.FirstPartyVehicleType.value_counts().index.tolist()\n",
    "b = claims.FirstPartyVehicleType.cat.codes.value_counts().index.tolist()\n",
    "FirstPartyVehicleType_codelist = pd.DataFrame(a,b)\n",
    "\n",
    "a = claims.ClaimCause.value_counts().index.tolist()\n",
    "b = claims.ClaimCause.cat.codes.value_counts().index.tolist()\n",
    "ClaimCause_codelist = pd.DataFrame(a,b)\n",
    "\n",
    "a = claims.ClaimInvolvedCovers.value_counts().index.tolist()\n",
    "b = claims.ClaimInvolvedCovers.cat.codes.value_counts().index.tolist()\n",
    "ClaimInvolvedCovers_codelist = pd.DataFrame(a,b)\n",
    "\n",
    "a = claims.DamageImportance.value_counts().index.tolist()\n",
    "b = claims.DamageImportance.cat.codes.value_counts().index.tolist()\n",
    "DamageImportance_codelist = pd.DataFrame(a,b)\n",
    "\n",
    "a = claims.ConnectionBetweenParties.value_counts().index.tolist()\n",
    "b = claims.ConnectionBetweenParties.cat.codes.value_counts().index.tolist()\n",
    "ConnectionBetweenParties_codelist = pd.DataFrame(a,b)\n",
    "\n",
    "# categorise 'PolicyHolderAge'\n",
    "claims.loc[(claims['PolicyHolderAge'].isna()), 'PolicyHolderAge'] = 100\n",
    "claims['PolicyHolderAge'] = claims['PolicyHolderAge'].astype(int)\n",
    "claims['PolicyAge_Cat'] = 0\n",
    "claims.loc[(claims[\"PolicyHolderAge\"] <= 20), 'PolicyAge_Cat'] = 1\n",
    "claims.loc[(claims[\"PolicyHolderAge\"] > 20) & (claims[\"PolicyHolderAge\"] <= 30) , 'PolicyAge_Cat'] = 2\n",
    "claims.loc[(claims[\"PolicyHolderAge\"] > 30) & (claims[\"PolicyHolderAge\"] <= 40) , 'PolicyAge_Cat'] = 3\n",
    "claims.loc[(claims[\"PolicyHolderAge\"] > 40) & (claims[\"PolicyHolderAge\"] <= 50) , 'PolicyAge_Cat'] = 4\n",
    "claims.loc[(claims[\"PolicyHolderAge\"] > 50) & (claims[\"PolicyHolderAge\"] <= 60) , 'PolicyAge_Cat'] = 5\n",
    "claims.loc[(claims[\"PolicyHolderAge\"] > 60) & (claims[\"PolicyHolderAge\"] <= 70) , 'PolicyAge_Cat'] = 6\n",
    "claims.loc[(claims[\"PolicyHolderAge\"] > 70) & (claims[\"PolicyHolderAge\"] <= 80) , 'PolicyAge_Cat'] = 7\n",
    "claims.loc[(claims[\"PolicyHolderAge\"] > 80) , 'PolicyAge_Cat'] = 8\n",
    "claims.loc[(claims[\"PolicyHolderAge\"] == 100) , 'PolicyAge_Cat'] = 9\n",
    "\n",
    "# replace NA in loss hour to 25\n",
    "claims[\"LossHour\"] = claims[\"LossHour\"].fillna(25)\n",
    "\n",
    "# one-hot encoding for categorical data\n",
    "cat_col = [\"PolicyholderOccupation\", \"ClaimCause\", \"ClaimInvolvedCovers\", \"DamageImportance\",\n",
    "     \"FirstPartyVehicleType\", \"ConnectionBetweenParties\", \"LossHour\", \"PolicyAge_Cat\",\n",
    "     \"EasinessToStage\", \"PolicyHolderAge\"]\n",
    "claims = pd.get_dummies(claims, drop_first = True, columns = cat_col)"
   ]
  },
  {
   "cell_type": "code",
   "execution_count": 267,
   "metadata": {
    "ExecuteTime": {
     "end_time": "2022-03-09T12:17:55.935028Z",
     "start_time": "2022-03-09T12:17:55.859925Z"
    }
   },
   "outputs": [
    {
     "name": "stdout",
     "output_type": "stream",
     "text": [
      "(3459, 226)\n",
      "(4036, 226)\n",
      "(4035, 226)\n"
     ]
    }
   ],
   "source": [
    "# split train/test set before preprocessing\n",
    "claims_x = claims.drop([\"Fraud\"], axis = 1)\n",
    "claims_y = claims['Fraud']\n",
    "X_train, X_other, y_train, y_other = train_test_split(claims_x, claims_y, test_size=0.7, random_state = 657)\n",
    "X_test, X_valid, y_test, y_valid = train_test_split(X_other, y_other, train_size = 0.5, random_state=391)\n",
    "print(X_train.shape)\n",
    "print(X_valid.shape)\n",
    "print(X_test.shape)"
   ]
  },
  {
   "cell_type": "code",
   "execution_count": 268,
   "metadata": {
    "ExecuteTime": {
     "end_time": "2022-03-09T12:17:59.119567Z",
     "start_time": "2022-03-09T12:17:59.105187Z"
    }
   },
   "outputs": [],
   "source": [
    "# define function to perform data processing\n",
    "def preprocess(x):\n",
    "    # replace NA in column 'FpVehicleAgeMonths' with median\n",
    "    x['FpVehicleAgeMonths'] = x['FpVehicleAgeMonths'].replace(np.nan, x['FpVehicleAgeMonths'].median())\n",
    "    \n",
    "    # create a new variable to measure the days between first policy subscription and loss date\n",
    "    x['LossDate'] = pd.to_datetime(x['LossDate'])\n",
    "    x['FirstPolicySubscriptionDate'] = pd.to_datetime(x['FirstPolicySubscriptionDate'])\n",
    "    x['LossDaysAfterFirstSubscription'] = x[\"LossDate\"]-x['FirstPolicySubscriptionDate']\n",
    "    x['LossDaysAfterFirstSubscription'] = x['LossDaysAfterFirstSubscription'].apply(lambda x: x.days)\n",
    "    # drop unnecessary columns\n",
    "    x = x.drop(['LossDate', 'FirstPolicySubscriptionDate'], axis = 1)\n",
    "\n",
    "    # scale the data\n",
    "    fpvehicleagemonths_scale=(x.FpVehicleAgeMonths-x.FpVehicleAgeMonths.min())/(x.FpVehicleAgeMonths.max()-x.FpVehicleAgeMonths.min())\n",
    "    ClaimAmount_scale=(x.ClaimAmount-x.ClaimAmount.min())/(x.ClaimAmount.max()-x.ClaimAmount.min())\n",
    "    LossDaysAfterFirstSubscription_scale=(x.LossDaysAfterFirstSubscription-x.LossDaysAfterFirstSubscription.min())/(x.LossDaysAfterFirstSubscription.max()-x.LossDaysAfterFirstSubscription.min())\n",
    "    NumberOfPoliciesOfPolicyholder_scale=(x.NumberOfPoliciesOfPolicyholder-x.NumberOfPoliciesOfPolicyholder.min())/(x.NumberOfPoliciesOfPolicyholder.max()-x.NumberOfPoliciesOfPolicyholder.min())\n",
    "    x.FpVehicleAgeMonths = fpvehicleagemonths_scale\n",
    "    x.ClaimAmount = ClaimAmount_scale\n",
    "    x.LossDaysAfterFirstSubscription = LossDaysAfterFirstSubscription_scale\n",
    "    x.NumberOfPoliciesOfPolicyholder = NumberOfPoliciesOfPolicyholder_scale\n",
    "\n",
    "    return x"
   ]
  },
  {
   "cell_type": "code",
   "execution_count": 269,
   "metadata": {
    "ExecuteTime": {
     "end_time": "2022-03-09T12:18:03.791088Z",
     "start_time": "2022-03-09T12:18:02.114361Z"
    }
   },
   "outputs": [
    {
     "name": "stdout",
     "output_type": "stream",
     "text": [
      "PolicyWasSubscribedOnInternet      False\n",
      "NumberOfPoliciesOfPolicyholder     False\n",
      "FpVehicleAgeMonths                 False\n",
      "ClaimWihoutIdentifiedThirdParty    False\n",
      "ClaimAmount                        False\n",
      "                                   ...  \n",
      "PolicyHolderAge_88                 False\n",
      "PolicyHolderAge_89                 False\n",
      "PolicyHolderAge_90                 False\n",
      "PolicyHolderAge_100                False\n",
      "LossDaysAfterFirstSubscription     False\n",
      "Length: 225, dtype: bool\n",
      "PolicyWasSubscribedOnInternet      False\n",
      "NumberOfPoliciesOfPolicyholder     False\n",
      "FpVehicleAgeMonths                 False\n",
      "ClaimWihoutIdentifiedThirdParty    False\n",
      "ClaimAmount                        False\n",
      "                                   ...  \n",
      "PolicyHolderAge_88                 False\n",
      "PolicyHolderAge_89                 False\n",
      "PolicyHolderAge_90                 False\n",
      "PolicyHolderAge_100                False\n",
      "LossDaysAfterFirstSubscription     False\n",
      "Length: 225, dtype: bool\n",
      "PolicyWasSubscribedOnInternet      False\n",
      "NumberOfPoliciesOfPolicyholder     False\n",
      "FpVehicleAgeMonths                 False\n",
      "ClaimWihoutIdentifiedThirdParty    False\n",
      "ClaimAmount                        False\n",
      "                                   ...  \n",
      "PolicyHolderAge_88                 False\n",
      "PolicyHolderAge_89                 False\n",
      "PolicyHolderAge_90                 False\n",
      "PolicyHolderAge_100                False\n",
      "LossDaysAfterFirstSubscription     False\n",
      "Length: 225, dtype: bool\n"
     ]
    }
   ],
   "source": [
    "# run the data processing function to training validation and testing sets\n",
    "X_train = preprocess(X_train)\n",
    "X_valid = preprocess(X_valid)\n",
    "X_test = preprocess(X_test)\n",
    "print(X_train.isna().any())\n",
    "print(X_valid.isna().any())\n",
    "print(X_test.isna().any())"
   ]
  },
  {
   "cell_type": "markdown",
   "metadata": {},
   "source": [
    "3. Start by creating a (deep) neural network in TensorFlow and train it on the data. Using training and validation sets, find a model with high accuracy, then evaluate it on the test set. In particular, record both the accuracy and AUC. Briefly discuss what issues you observe based on the metrics."
   ]
  },
  {
   "cell_type": "code",
   "execution_count": 270,
   "metadata": {
    "ExecuteTime": {
     "end_time": "2022-03-09T12:18:07.736074Z",
     "start_time": "2022-03-09T12:18:07.726990Z"
    }
   },
   "outputs": [],
   "source": [
    "#import libraries\n",
    "import tensorflow as tf\n",
    "from tensorboard.plugins.hparams import api as hp\n",
    "from sklearn.model_selection import train_test_split\n",
    "import matplotlib.pyplot as plt\n",
    "import keras_tuner as kt"
   ]
  },
  {
   "cell_type": "code",
   "execution_count": 271,
   "metadata": {
    "ExecuteTime": {
     "end_time": "2022-03-09T12:18:11.535420Z",
     "start_time": "2022-03-09T12:18:11.525825Z"
    }
   },
   "outputs": [],
   "source": [
    "#clear out TensorFlow's cache\n",
    "tf.keras.backend.clear_session()\n",
    "np.random.seed(231)\n",
    "tf.random.set_seed(631)"
   ]
  },
  {
   "cell_type": "code",
   "execution_count": 272,
   "metadata": {
    "ExecuteTime": {
     "end_time": "2022-03-09T12:18:14.642159Z",
     "start_time": "2022-03-09T12:18:14.632104Z"
    }
   },
   "outputs": [],
   "source": [
    "#train the TensorFlow model\n",
    "def train_model(hp):    \n",
    "    num_units = hp.Int('num_units', min_value = 3, max_value=20) \n",
    "    dropout_rate = hp.Float('dropout_rate', min_value = 0.1, max_value=0.3) \n",
    "    optim_algo = hp.Choice('optimizer', values=['sgd','adam']) \n",
    "    learning_rate = hp.Float('learning_rate', min_value = 0.001, max_value=1, sampling='log') \n",
    "    \n",
    "    model = tf.keras.models.Sequential([\n",
    "        tf.keras.layers.Dropout(dropout_rate),\n",
    "        tf.keras.layers.Dense(num_units, activation=\"relu\", input_shape=X_train.shape[1:]),\n",
    "        tf.keras.layers.Dropout(dropout_rate),\n",
    "        tf.keras.layers.Dense(num_units, activation=\"relu\"),\n",
    "        tf.keras.layers.Dense(1,activation=\"sigmoid\")\n",
    "])    \n",
    "    \n",
    "    if optim_algo == 'sgd':\n",
    "        optimizer = tf.keras.optimizers.SGD(learning_rate=learning_rate,clipvalue=1)\n",
    "    elif optim_algo == 'adam':\n",
    "        optimizer = tf.keras.optimizers.Adam(learning_rate=learning_rate)\n",
    "            \n",
    "    model.compile(optimizer=optimizer,\n",
    "                loss='mean_squared_error')\n",
    "    \n",
    "    return model"
   ]
  },
  {
   "cell_type": "code",
   "execution_count": 273,
   "metadata": {
    "ExecuteTime": {
     "end_time": "2022-03-09T12:18:18.727674Z",
     "start_time": "2022-03-09T12:18:18.567553Z"
    }
   },
   "outputs": [],
   "source": [
    "rm -rf ./logs2/group_assignment"
   ]
  },
  {
   "cell_type": "code",
   "execution_count": 274,
   "metadata": {
    "ExecuteTime": {
     "end_time": "2022-03-09T12:19:53.210555Z",
     "start_time": "2022-03-09T12:18:23.660834Z"
    }
   },
   "outputs": [
    {
     "name": "stdout",
     "output_type": "stream",
     "text": [
      "Trial 30 Complete [00h 00m 05s]\n",
      "val_loss: 0.010158573277294636\n",
      "\n",
      "Best val_loss So Far: 0.010010549798607826\n",
      "Total elapsed time: 00h 01m 29s\n",
      "INFO:tensorflow:Oracle triggered exit\n"
     ]
    }
   ],
   "source": [
    "#use Hyperband to tune the model\n",
    "tuner = kt.Hyperband(train_model,\n",
    "                     objective='val_loss',\n",
    "                     max_epochs=10,\n",
    "                     factor=3,\n",
    "                     directory='logs2',\n",
    "                     project_name='group_assignment')\n",
    "tuner.search(X_train, y_train, validation_data=(X_valid,y_valid))"
   ]
  },
  {
   "cell_type": "code",
   "execution_count": 275,
   "metadata": {
    "ExecuteTime": {
     "end_time": "2022-03-09T12:20:08.166326Z",
     "start_time": "2022-03-09T12:20:08.155777Z"
    }
   },
   "outputs": [
    {
     "name": "stdout",
     "output_type": "stream",
     "text": [
      "Best learning rate: 0.05050850713898753\n",
      "Best optimizer: sgd\n",
      "Best dropout rate: 0.2907472995869832\n",
      "Best number of hidden units: 17\n"
     ]
    }
   ],
   "source": [
    "#get the best hyperparameters found\n",
    "best_hps = tuner.get_best_hyperparameters()[0]\n",
    "print(\"Best learning rate: \" + str(best_hps['learning_rate']))\n",
    "print(\"Best optimizer: \" + str(best_hps['optimizer']))\n",
    "print(\"Best dropout rate: \" + str(best_hps['dropout_rate']))\n",
    "print(\"Best number of hidden units: \" + str(best_hps['num_units']))"
   ]
  },
  {
   "cell_type": "code",
   "execution_count": 276,
   "metadata": {
    "ExecuteTime": {
     "end_time": "2022-03-09T12:20:12.497070Z",
     "start_time": "2022-03-09T12:20:12.469058Z"
    }
   },
   "outputs": [],
   "source": [
    "#build the model that uses the best hyperparameters\n",
    "best_model = tuner.hypermodel.build(best_hps)"
   ]
  },
  {
   "cell_type": "code",
   "execution_count": 277,
   "metadata": {
    "ExecuteTime": {
     "end_time": "2022-03-09T12:20:16.444980Z",
     "start_time": "2022-03-09T12:20:16.425372Z"
    }
   },
   "outputs": [],
   "source": [
    "best_model.compile(loss=\"mean_squared_error\",\n",
    "              metrics = [\"acc\",tf.keras.metrics.AUC()])"
   ]
  },
  {
   "cell_type": "code",
   "execution_count": 278,
   "metadata": {
    "ExecuteTime": {
     "end_time": "2022-03-09T12:20:19.638384Z",
     "start_time": "2022-03-09T12:20:19.632695Z"
    }
   },
   "outputs": [],
   "source": [
    "#implement early stopping\n",
    "early_stopping_cb = tf.keras.callbacks.EarlyStopping(patience=10, restore_best_weights=True)"
   ]
  },
  {
   "cell_type": "code",
   "execution_count": 279,
   "metadata": {
    "ExecuteTime": {
     "end_time": "2022-03-09T12:20:30.211183Z",
     "start_time": "2022-03-09T12:20:23.109022Z"
    }
   },
   "outputs": [
    {
     "name": "stdout",
     "output_type": "stream",
     "text": [
      "Epoch 1/30\n",
      "109/109 [==============================] - 2s 7ms/step - loss: 0.0680 - acc: 0.9624 - auc: 0.5508 - val_loss: 0.0104 - val_acc: 0.9898 - val_auc: 0.5395\n",
      "Epoch 2/30\n",
      "109/109 [==============================] - 0s 4ms/step - loss: 0.0107 - acc: 0.9899 - auc: 0.5048 - val_loss: 0.0101 - val_acc: 0.9898 - val_auc: 0.5028\n",
      "Epoch 3/30\n",
      "109/109 [==============================] - 0s 4ms/step - loss: 0.0101 - acc: 0.9899 - auc: 0.4892 - val_loss: 0.0102 - val_acc: 0.9898 - val_auc: 0.4999\n",
      "Epoch 4/30\n",
      "109/109 [==============================] - 0s 4ms/step - loss: 0.0101 - acc: 0.9899 - auc: 0.5069 - val_loss: 0.0102 - val_acc: 0.9898 - val_auc: 0.5000\n",
      "Epoch 5/30\n",
      "109/109 [==============================] - 0s 4ms/step - loss: 0.0101 - acc: 0.9899 - auc: 0.5458 - val_loss: 0.0102 - val_acc: 0.9898 - val_auc: 0.5000\n",
      "Epoch 6/30\n",
      "109/109 [==============================] - 0s 4ms/step - loss: 0.0101 - acc: 0.9899 - auc: 0.5253 - val_loss: 0.0102 - val_acc: 0.9898 - val_auc: 0.5000\n",
      "Epoch 7/30\n",
      "109/109 [==============================] - 0s 4ms/step - loss: 0.0101 - acc: 0.9899 - auc: 0.5320 - val_loss: 0.0102 - val_acc: 0.9898 - val_auc: 0.5000\n",
      "Epoch 8/30\n",
      "109/109 [==============================] - 1s 6ms/step - loss: 0.0101 - acc: 0.9899 - auc: 0.5279 - val_loss: 0.0102 - val_acc: 0.9898 - val_auc: 0.5000\n",
      "Epoch 9/30\n",
      "109/109 [==============================] - 0s 4ms/step - loss: 0.0101 - acc: 0.9899 - auc: 0.5147 - val_loss: 0.0102 - val_acc: 0.9898 - val_auc: 0.5000\n",
      "Epoch 10/30\n",
      "109/109 [==============================] - 0s 4ms/step - loss: 0.0101 - acc: 0.9899 - auc: 0.5035 - val_loss: 0.0102 - val_acc: 0.9898 - val_auc: 0.5000\n",
      "Epoch 11/30\n",
      "109/109 [==============================] - 1s 5ms/step - loss: 0.0101 - acc: 0.9899 - auc: 0.4943 - val_loss: 0.0102 - val_acc: 0.9898 - val_auc: 0.5000\n",
      "Epoch 12/30\n",
      "109/109 [==============================] - 1s 5ms/step - loss: 0.0101 - acc: 0.9899 - auc: 0.4952 - val_loss: 0.0102 - val_acc: 0.9898 - val_auc: 0.5000\n",
      "127/127 [==============================] - 0s 2ms/step - loss: 0.0096 - acc: 0.9903 - auc: 0.5016\n",
      "[0.009642730467021465, 0.9903345704078674, 0.501636266708374]\n"
     ]
    }
   ],
   "source": [
    "best_model.fit(X_train, y_train,\n",
    "               epochs=30,\n",
    "               validation_data=(X_valid,y_valid),\n",
    "               callbacks=[early_stopping_cb])\n",
    "print((best_model.evaluate(X_test, y_test)))"
   ]
  },
  {
   "cell_type": "code",
   "execution_count": 280,
   "metadata": {
    "ExecuteTime": {
     "end_time": "2022-03-09T12:20:33.989469Z",
     "start_time": "2022-03-09T12:20:33.735828Z"
    }
   },
   "outputs": [
    {
     "name": "stdout",
     "output_type": "stream",
     "text": [
      "tf.Tensor(\n",
      "[[3996    0]\n",
      " [  39    0]], shape=(2, 2), dtype=int32)\n"
     ]
    }
   ],
   "source": [
    "#confusion matrix\n",
    "y_pred = best_model.predict(X_test)\n",
    "print(tf.math.confusion_matrix(y_test, y_pred))"
   ]
  },
  {
   "cell_type": "code",
   "execution_count": 281,
   "metadata": {
    "ExecuteTime": {
     "end_time": "2022-03-09T12:20:37.921681Z",
     "start_time": "2022-03-09T12:20:37.567130Z"
    }
   },
   "outputs": [
    {
     "data": {
      "text/plain": [
       "Text(0,0.5,'Count')"
      ]
     },
     "execution_count": 281,
     "metadata": {},
     "output_type": "execute_result"
    },
    {
     "data": {
      "image/png": "[encoded data removed]",
      "text/plain": [
       "<Figure size 432x288 with 1 Axes>"
      ]
     },
     "metadata": {
      "needs_background": "light"
     },
     "output_type": "display_data"
    }
   ],
   "source": [
    "# Histogram of detecting fraudulent claims \n",
    "plt.hist(y_pred,color='b', label='nonfraud',alpha=0.5)\n",
    "plt.legend()\n",
    "plt.title('Histogram')\n",
    "plt.xlabel('Probability of detecting fraud')\n",
    "plt.ylabel('Count')"
   ]
  },
  {
   "cell_type": "markdown",
   "metadata": {},
   "source": [
    "The testing set gave a high accuracy score of 0.99 but a low AUC score of 0.5. As shown in the histogram, the probabilities of detecting any fraud is zero for the whole dataset. This could be due to fraud cases making up of just 1% of the dataset, creating a severe class-imbalanced distribution. Hence, the model had over-predicted the majority class, which is the non-fraud cases."
   ]
  },
  {
   "cell_type": "code",
   "execution_count": 282,
   "metadata": {
    "ExecuteTime": {
     "end_time": "2022-03-09T12:36:17.681158Z",
     "start_time": "2022-03-09T12:36:17.642280Z"
    }
   },
   "outputs": [],
   "source": [
    "#save it as h5 file\n",
    "best_model.save(\"best_model.h5\")"
   ]
  },
  {
   "cell_type": "markdown",
   "metadata": {},
   "source": [
    "### first approach: SMOTE"
   ]
  },
  {
   "cell_type": "markdown",
   "metadata": {},
   "source": [
    "4. The file \"SMOTE.ipynb\" explains the process in detail and shows how to change the dataset with an example. You can copy and adjust the code to make it work within your analysis. You can adjust the \"sampling_strategy\" parameters as you see fit, particularly if you want to fine-tune your model in part 5."
   ]
  },
  {
   "cell_type": "code",
   "execution_count": 21,
   "metadata": {
    "ExecuteTime": {
     "end_time": "2022-03-08T20:25:29.283262Z",
     "start_time": "2022-03-08T20:25:28.977360Z"
    }
   },
   "outputs": [],
   "source": [
    "#import libraries\n",
    "import imblearn\n",
    "from collections import Counter\n",
    "import matplotlib.pyplot as plt\n",
    "from imblearn.over_sampling import SMOTE"
   ]
  },
  {
   "cell_type": "code",
   "execution_count": 232,
   "metadata": {
    "ExecuteTime": {
     "end_time": "2022-03-09T12:06:12.996363Z",
     "start_time": "2022-03-09T12:06:12.794806Z"
    }
   },
   "outputs": [],
   "source": [
    "# Obatin column index for categorical features\n",
    "over = SMOTE(random_state=123, sampling_strategy=0.1)\n",
    "under = imblearn.under_sampling.RandomUnderSampler(sampling_strategy=0.3, random_state = 241)\n",
    "steps = [('o', over), ('u', under)]\n",
    "pipeline = imblearn.pipeline.Pipeline(steps=steps)\n",
    "X_synth, y_synth = pipeline.fit_resample(X_train, y_train)"
   ]
  },
  {
   "cell_type": "code",
   "execution_count": 219,
   "metadata": {
    "ExecuteTime": {
     "end_time": "2022-03-09T12:01:27.602326Z",
     "start_time": "2022-03-09T12:01:27.588716Z"
    }
   },
   "outputs": [
    {
     "name": "stdout",
     "output_type": "stream",
     "text": [
      "(3459,)\n",
      "35\n",
      "(1482,)\n",
      "342\n"
     ]
    }
   ],
   "source": [
    "#look at the shape of the SMOTE created data\n",
    "print(y_train.shape)\n",
    "print(np.sum(y_train))\n",
    "\n",
    "print(y_synth.shape)\n",
    "print(np.sum(y_synth))"
   ]
  },
  {
   "cell_type": "code",
   "execution_count": 233,
   "metadata": {
    "ExecuteTime": {
     "end_time": "2022-03-09T12:06:16.419453Z",
     "start_time": "2022-03-09T12:06:16.280447Z"
    }
   },
   "outputs": [
    {
     "data": {
      "image/png": "[encoded data removed]",
      "text/plain": [
       "<Figure size 432x288 with 1 Axes>"
      ]
     },
     "metadata": {
      "needs_background": "light"
     },
     "output_type": "display_data"
    }
   ],
   "source": [
    "#bar chart to show how we resmaple the data\n",
    "train_nf = y_train.value_counts()[0]\n",
    "synth_nf = y_synth.value_counts()[0]\n",
    "train_f = y_train.value_counts()[1]\n",
    "synth_f = y_synth.value_counts()[1]\n",
    "\n",
    "labels = ['Original Training Data', 'Synthetic Training data from SMOTE']\n",
    "nonfraud = [train_nf, synth_nf]\n",
    "fraud = [train_f, synth_f]\n",
    "width = 0.35       # the width of the bars: can also be len(x) sequence\n",
    "\n",
    "fig, ax = plt.subplots()\n",
    "\n",
    "ax.bar(labels, fraud, width, label='Fraudulent', bottom=nonfraud, color='skyblue')\n",
    "ax.bar(labels, nonfraud, width, label='Non-fraudulent', color = 'grey')\n",
    "\n",
    "ax.set_ylabel('Number of Observations')\n",
    "ax.legend()\n",
    "\n",
    "plt.show()"
   ]
  },
  {
   "cell_type": "markdown",
   "metadata": {},
   "source": [
    "5. Create a new (deep) neural network and train it on your enhanced dataset. Use training and validation sets derived from the enhanced dataset to find a model with high accuracy. Evaluate your final model on a test set consisting only of original data. Again, record the accuracy and AUC. Briefly discuss the changes you would expect in the metrics and the actual changes you observe. Would you say that you are now doing better at identifying fraudulent claims?"
   ]
  },
  {
   "cell_type": "code",
   "execution_count": 234,
   "metadata": {
    "ExecuteTime": {
     "end_time": "2022-03-09T12:06:20.010425Z",
     "start_time": "2022-03-09T12:06:19.805307Z"
    }
   },
   "outputs": [],
   "source": [
    "rm -rf ./logs2/group_assignment_SMOTE"
   ]
  },
  {
   "cell_type": "code",
   "execution_count": 235,
   "metadata": {
    "ExecuteTime": {
     "end_time": "2022-03-09T12:07:37.952597Z",
     "start_time": "2022-03-09T12:06:23.082584Z"
    }
   },
   "outputs": [
    {
     "name": "stdout",
     "output_type": "stream",
     "text": [
      "Trial 30 Complete [00h 00m 05s]\n",
      "val_loss: 0.010534405708312988\n",
      "\n",
      "Best val_loss So Far: 0.010156056843698025\n",
      "Total elapsed time: 00h 01m 14s\n",
      "INFO:tensorflow:Oracle triggered exit\n"
     ]
    }
   ],
   "source": [
    "#build the model for SMOTE dataset\n",
    "tuner = kt.Hyperband(train_model,\n",
    "                     objective='val_loss',\n",
    "                     max_epochs=10,\n",
    "                     factor=3,\n",
    "                     directory='logs2',\n",
    "                     project_name='group_assignment_SMOTE')\n",
    "tuner.search(X_synth, y_synth, validation_data=(X_valid,y_valid))"
   ]
  },
  {
   "cell_type": "code",
   "execution_count": 236,
   "metadata": {
    "ExecuteTime": {
     "end_time": "2022-03-09T12:08:35.363998Z",
     "start_time": "2022-03-09T12:08:35.327114Z"
    }
   },
   "outputs": [
    {
     "name": "stdout",
     "output_type": "stream",
     "text": [
      "Best learning rate: 0.42905236012481845\n",
      "Best optimizer: adam\n",
      "Best dropout rate: 0.11543704176746217\n",
      "Best number of hidden units: 10\n"
     ]
    }
   ],
   "source": [
    "#get the best hyperparameters\n",
    "best_hps = tuner.get_best_hyperparameters()[0]\n",
    "print(\"Best learning rate: \" + str(best_hps['learning_rate']))\n",
    "print(\"Best optimizer: \" + str(best_hps['optimizer']))\n",
    "print(\"Best dropout rate: \" + str(best_hps['dropout_rate']))\n",
    "print(\"Best number of hidden units: \" + str(best_hps['num_units']))"
   ]
  },
  {
   "cell_type": "code",
   "execution_count": 237,
   "metadata": {
    "ExecuteTime": {
     "end_time": "2022-03-09T12:08:50.990102Z",
     "start_time": "2022-03-09T12:08:50.966312Z"
    }
   },
   "outputs": [],
   "source": [
    "best_model_SMOTE = tuner.hypermodel.build(best_hps)"
   ]
  },
  {
   "cell_type": "code",
   "execution_count": 238,
   "metadata": {
    "ExecuteTime": {
     "end_time": "2022-03-09T12:08:53.928746Z",
     "start_time": "2022-03-09T12:08:53.909724Z"
    }
   },
   "outputs": [],
   "source": [
    "best_model_SMOTE.compile(loss=\"mean_squared_error\",\n",
    "              metrics = [\"acc\",tf.keras.metrics.AUC()])"
   ]
  },
  {
   "cell_type": "code",
   "execution_count": 239,
   "metadata": {
    "ExecuteTime": {
     "end_time": "2022-03-09T12:08:56.938567Z",
     "start_time": "2022-03-09T12:08:56.932673Z"
    }
   },
   "outputs": [],
   "source": [
    "early_stopping_cb = tf.keras.callbacks.EarlyStopping(patience=10, restore_best_weights=True)"
   ]
  },
  {
   "cell_type": "code",
   "execution_count": 240,
   "metadata": {
    "ExecuteTime": {
     "end_time": "2022-03-09T12:09:12.526532Z",
     "start_time": "2022-03-09T12:09:00.131647Z"
    }
   },
   "outputs": [
    {
     "name": "stdout",
     "output_type": "stream",
     "text": [
      "Epoch 1/30\n",
      "47/47 [==============================] - 1s 11ms/step - loss: 0.2370 - acc: 0.6451 - auc: 0.5592 - val_loss: 0.1794 - val_acc: 0.9898 - val_auc: 0.5742\n",
      "Epoch 2/30\n",
      "47/47 [==============================] - 0s 7ms/step - loss: 0.1830 - acc: 0.7692 - auc: 0.7326 - val_loss: 0.0914 - val_acc: 0.9898 - val_auc: 0.5756\n",
      "Epoch 3/30\n",
      "47/47 [==============================] - 0s 7ms/step - loss: 0.1522 - acc: 0.7692 - auc: 0.8668 - val_loss: 0.0573 - val_acc: 0.9898 - val_auc: 0.6411\n",
      "Epoch 4/30\n",
      "47/47 [==============================] - 0s 6ms/step - loss: 0.1327 - acc: 0.7692 - auc: 0.9390 - val_loss: 0.0462 - val_acc: 0.9898 - val_auc: 0.7023\n",
      "Epoch 5/30\n",
      "47/47 [==============================] - 0s 6ms/step - loss: 0.1156 - acc: 0.7969 - auc: 0.9496 - val_loss: 0.0402 - val_acc: 0.9889 - val_auc: 0.7362\n",
      "Epoch 6/30\n",
      "47/47 [==============================] - 0s 8ms/step - loss: 0.0962 - acc: 0.8603 - auc: 0.9626 - val_loss: 0.0357 - val_acc: 0.9837 - val_auc: 0.7535\n",
      "Epoch 7/30\n",
      "47/47 [==============================] - 0s 8ms/step - loss: 0.0790 - acc: 0.9042 - auc: 0.9721 - val_loss: 0.0317 - val_acc: 0.9789 - val_auc: 0.7669\n",
      "Epoch 8/30\n",
      "47/47 [==============================] - 0s 7ms/step - loss: 0.0702 - acc: 0.9170 - auc: 0.9716 - val_loss: 0.0247 - val_acc: 0.9804 - val_auc: 0.7736\n",
      "Epoch 9/30\n",
      "47/47 [==============================] - 0s 8ms/step - loss: 0.0585 - acc: 0.9413 - auc: 0.9758 - val_loss: 0.0254 - val_acc: 0.9765 - val_auc: 0.7882\n",
      "Epoch 10/30\n",
      "47/47 [==============================] - 0s 8ms/step - loss: 0.0549 - acc: 0.9420 - auc: 0.9733 - val_loss: 0.0240 - val_acc: 0.9755 - val_auc: 0.7977\n",
      "Epoch 11/30\n",
      "47/47 [==============================] - 0s 8ms/step - loss: 0.0473 - acc: 0.9487 - auc: 0.9808 - val_loss: 0.0214 - val_acc: 0.9765 - val_auc: 0.7920\n",
      "Epoch 12/30\n",
      "47/47 [==============================] - 0s 9ms/step - loss: 0.0454 - acc: 0.9487 - auc: 0.9774 - val_loss: 0.0206 - val_acc: 0.9772 - val_auc: 0.7968\n",
      "Epoch 13/30\n",
      "47/47 [==============================] - 0s 7ms/step - loss: 0.0407 - acc: 0.9548 - auc: 0.9813 - val_loss: 0.0194 - val_acc: 0.9784 - val_auc: 0.7951\n",
      "Epoch 14/30\n",
      "47/47 [==============================] - 0s 7ms/step - loss: 0.0402 - acc: 0.9541 - auc: 0.9819 - val_loss: 0.0158 - val_acc: 0.9824 - val_auc: 0.8001\n",
      "Epoch 15/30\n",
      "47/47 [==============================] - 0s 7ms/step - loss: 0.0380 - acc: 0.9555 - auc: 0.9833 - val_loss: 0.0154 - val_acc: 0.9827 - val_auc: 0.7791\n",
      "Epoch 16/30\n",
      "47/47 [==============================] - 0s 9ms/step - loss: 0.0330 - acc: 0.9629 - auc: 0.9860 - val_loss: 0.0177 - val_acc: 0.9792 - val_auc: 0.7951\n",
      "Epoch 17/30\n",
      "47/47 [==============================] - 0s 9ms/step - loss: 0.0344 - acc: 0.9602 - auc: 0.9796 - val_loss: 0.0184 - val_acc: 0.9782 - val_auc: 0.7944\n",
      "Epoch 18/30\n",
      "47/47 [==============================] - 0s 7ms/step - loss: 0.0331 - acc: 0.9615 - auc: 0.9815 - val_loss: 0.0172 - val_acc: 0.9787 - val_auc: 0.7910\n",
      "Epoch 19/30\n",
      "47/47 [==============================] - 1s 14ms/step - loss: 0.0320 - acc: 0.9622 - auc: 0.9811 - val_loss: 0.0154 - val_acc: 0.9814 - val_auc: 0.7625\n",
      "Epoch 20/30\n",
      "47/47 [==============================] - 0s 7ms/step - loss: 0.0281 - acc: 0.9683 - auc: 0.9861 - val_loss: 0.0161 - val_acc: 0.9799 - val_auc: 0.7562\n",
      "Epoch 21/30\n",
      "47/47 [==============================] - 1s 11ms/step - loss: 0.0281 - acc: 0.9669 - auc: 0.9844 - val_loss: 0.0163 - val_acc: 0.9797 - val_auc: 0.7456\n",
      "Epoch 22/30\n",
      "47/47 [==============================] - 0s 9ms/step - loss: 0.0292 - acc: 0.9656 - auc: 0.9848 - val_loss: 0.0158 - val_acc: 0.9812 - val_auc: 0.7490\n",
      "Epoch 23/30\n",
      "47/47 [==============================] - 0s 6ms/step - loss: 0.0258 - acc: 0.9717 - auc: 0.9835 - val_loss: 0.0140 - val_acc: 0.9834 - val_auc: 0.7503\n",
      "Epoch 24/30\n",
      "47/47 [==============================] - 0s 9ms/step - loss: 0.0261 - acc: 0.9683 - auc: 0.9826 - val_loss: 0.0135 - val_acc: 0.9841 - val_auc: 0.7242\n",
      "Epoch 25/30\n",
      "47/47 [==============================] - 0s 7ms/step - loss: 0.0243 - acc: 0.9730 - auc: 0.9853 - val_loss: 0.0150 - val_acc: 0.9827 - val_auc: 0.7534\n",
      "Epoch 26/30\n",
      "47/47 [==============================] - 0s 6ms/step - loss: 0.0237 - acc: 0.9710 - auc: 0.9827 - val_loss: 0.0145 - val_acc: 0.9829 - val_auc: 0.7272\n",
      "Epoch 27/30\n",
      "47/47 [==============================] - 0s 6ms/step - loss: 0.0220 - acc: 0.9764 - auc: 0.9836 - val_loss: 0.0152 - val_acc: 0.9819 - val_auc: 0.7315\n",
      "Epoch 28/30\n",
      "47/47 [==============================] - 0s 6ms/step - loss: 0.0237 - acc: 0.9696 - auc: 0.9842 - val_loss: 0.0128 - val_acc: 0.9851 - val_auc: 0.7073\n",
      "Epoch 29/30\n",
      "47/47 [==============================] - 0s 5ms/step - loss: 0.0227 - acc: 0.9730 - auc: 0.9855 - val_loss: 0.0151 - val_acc: 0.9817 - val_auc: 0.7453\n",
      "Epoch 30/30\n",
      "47/47 [==============================] - 0s 8ms/step - loss: 0.0247 - acc: 0.9690 - auc: 0.9852 - val_loss: 0.0132 - val_acc: 0.9846 - val_auc: 0.7197\n",
      "127/127 [==============================] - 0s 2ms/step - loss: 0.0123 - acc: 0.9854 - auc: 0.7217\n"
     ]
    }
   ],
   "source": [
    "#fit the SMOTE dataset to the model\n",
    "log = best_model_SMOTE.fit(X_synth, y_synth,\n",
    "               epochs=30,\n",
    "               validation_data=(X_valid,y_valid),\n",
    "               callbacks=[early_stopping_cb])\n",
    "Evaluate = best_model_SMOTE.evaluate(X_test, y_test)"
   ]
  },
  {
   "cell_type": "code",
   "execution_count": 241,
   "metadata": {
    "ExecuteTime": {
     "end_time": "2022-03-09T12:09:15.468918Z",
     "start_time": "2022-03-09T12:09:15.326276Z"
    }
   },
   "outputs": [
    {
     "data": {
      "image/png": "[encoded data removed]",
      "text/plain": [
       "<Figure size 432x288 with 1 Axes>"
      ]
     },
     "metadata": {
      "needs_background": "light"
     },
     "output_type": "display_data"
    }
   ],
   "source": [
    "plt.plot(log.history['acc'],label = \"training accuracy\")\n",
    "plt.plot(log.history['val_acc'], label = \"validation accuracy\")\n",
    "plt.legend()\n",
    "plt.show()"
   ]
  },
  {
   "cell_type": "code",
   "execution_count": 242,
   "metadata": {
    "ExecuteTime": {
     "end_time": "2022-03-09T12:09:18.447582Z",
     "start_time": "2022-03-09T12:09:18.292191Z"
    }
   },
   "outputs": [
    {
     "data": {
      "image/png": "[encoded data removed]",
      "text/plain": [
       "<Figure size 432x288 with 1 Axes>"
      ]
     },
     "metadata": {
      "needs_background": "light"
     },
     "output_type": "display_data"
    }
   ],
   "source": [
    "plt.plot(log.history['loss'],label = \"training loss\")\n",
    "plt.plot(log.history['val_loss'], label = \"validation loss\")\n",
    "plt.legend()\n",
    "plt.show()"
   ]
  },
  {
   "cell_type": "code",
   "execution_count": 243,
   "metadata": {
    "ExecuteTime": {
     "end_time": "2022-03-09T12:09:21.639517Z",
     "start_time": "2022-03-09T12:09:21.630824Z"
    }
   },
   "outputs": [
    {
     "name": "stdout",
     "output_type": "stream",
     "text": [
      "Accuracy score for SMOTE model is: 0.9853779673576355\n",
      "AUC score for SMOTE model is: 0.7216677069664001\n"
     ]
    }
   ],
   "source": [
    "#accuracy and AUC score\n",
    "print(\"Accuracy score for SMOTE model is:\" , Evaluate[1])\n",
    "print(\"AUC score for SMOTE model is:\" , Evaluate[2])                             "
   ]
  },
  {
   "cell_type": "code",
   "execution_count": 244,
   "metadata": {
    "ExecuteTime": {
     "end_time": "2022-03-09T12:10:17.397176Z",
     "start_time": "2022-03-09T12:10:17.146930Z"
    }
   },
   "outputs": [
    {
     "name": "stdout",
     "output_type": "stream",
     "text": [
      "tf.Tensor(\n",
      "[[3968   27]\n",
      " [  32    8]], shape=(2, 2), dtype=int32)\n"
     ]
    }
   ],
   "source": [
    "#confusion matrix\n",
    "y_pred_SMOTE = best_model_SMOTE.predict(X_test)\n",
    "y_prob_SMOTE = np.where(y_pred_SMOTE < 0.5, 0, 1)\n",
    "print(tf.math.confusion_matrix(y_test, y_prob_SMOTE))"
   ]
  },
  {
   "cell_type": "code",
   "execution_count": 245,
   "metadata": {
    "ExecuteTime": {
     "end_time": "2022-03-09T12:11:14.433539Z",
     "start_time": "2022-03-09T12:11:14.318816Z"
    }
   },
   "outputs": [],
   "source": [
    "#save it as h5 file\n",
    "best_model_SMOTE.save(\"best_model_SMOTE.h5\")"
   ]
  },
  {
   "cell_type": "markdown",
   "metadata": {},
   "source": [
    "Since SMOTE method oversampled the minority class (fraud class) and balanced out the observations of the two classes for the training data, the model built from this method should successfully predict fraud in the testing data, instead of predicting every test instances to be non-fraudulent. This increases the true positive rate as well as decreases the true negative rate. Therefore, the expected changes in metrices for using SMOTE is that AUC will increase and the accuracy score will decrease from the previous model. \n",
    "\n",
    "The actual outcome was that AUC had increased 22% and accuracy had decreased to 98.54%, suggesting that the model had correctly dectected fraud cases within the dataset. Hence, this model is now better at identifying fraudulent claims. "
   ]
  },
  {
   "cell_type": "markdown",
   "metadata": {},
   "source": [
    "### second approach: autoencoder"
   ]
  },
  {
   "cell_type": "markdown",
   "metadata": {},
   "source": [
    "6. Using the original data, create a training and set that contains only non-fraudulent claims, as well as validation and test sets that contain non-fraudulent and fraudulent claims. Make sure to spread fraudulent claims evenly across validation and test sets."
   ]
  },
  {
   "cell_type": "code",
   "execution_count": 37,
   "metadata": {
    "ExecuteTime": {
     "end_time": "2022-03-08T20:28:03.099784Z",
     "start_time": "2022-03-08T20:28:03.093922Z"
    }
   },
   "outputs": [],
   "source": [
    "#import library\n",
    "from sklearn import preprocessing "
   ]
  },
  {
   "cell_type": "code",
   "execution_count": 38,
   "metadata": {
    "ExecuteTime": {
     "end_time": "2022-03-08T20:28:03.890914Z",
     "start_time": "2022-03-08T20:28:03.829310Z"
    }
   },
   "outputs": [],
   "source": [
    "#divide dataset into fraud and nonfraud\n",
    "claims_nonfraud = claims[claims['Fraud']==0]\n",
    "claims_fraud = claims[claims['Fraud']==1]"
   ]
  },
  {
   "cell_type": "code",
   "execution_count": 39,
   "metadata": {
    "ExecuteTime": {
     "end_time": "2022-03-08T20:28:06.596396Z",
     "start_time": "2022-03-08T20:28:04.671943Z"
    }
   },
   "outputs": [],
   "source": [
    "#preprocessing data and scaling data into useful format for autoencoder\n",
    "claims_nonfraud_x = claims_nonfraud.drop([\"Fraud\"], axis = 1)\n",
    "claims_nonfraud_y = claims_nonfraud['Fraud']\n",
    "X_train_nonfraud, X_other_nonfraud, y_train_nonfraud, y_other_nonfraud = train_test_split(claims_nonfraud_x, claims_nonfraud_y, test_size=0.7, random_state = 657)\n",
    "X_test_nonfraud, X_valid_nonfraud, y_test_nonfraud, y_valid_nonfraud = train_test_split(X_other_nonfraud, y_other_nonfraud, train_size = 0.5, random_state=391)\n",
    "X_train_nonfraud = preprocess(X_train_nonfraud)\n",
    "X_test_nonfraud = preprocess(X_test_nonfraud)\n",
    "X_valid_nonfraud = preprocess(X_valid_nonfraud)\n",
    "X_train_nonfraud = preprocessing.MinMaxScaler().fit_transform(X_train_nonfraud.values)\n",
    "X_test_nonfraud = preprocessing.MinMaxScaler().fit_transform(X_test_nonfraud.values)\n",
    "X_valid_nonfraud = preprocessing.MinMaxScaler().fit_transform(X_valid_nonfraud.values)\n"
   ]
  },
  {
   "cell_type": "code",
   "execution_count": 40,
   "metadata": {
    "ExecuteTime": {
     "end_time": "2022-03-08T20:28:07.237558Z",
     "start_time": "2022-03-08T20:28:07.149809Z"
    }
   },
   "outputs": [],
   "source": [
    "#preprocessing data and scaling data into useful format for autoencoder\n",
    "claims_fraud_x = claims_fraud.drop([\"Fraud\"], axis = 1)\n",
    "claims_fraud_y = claims_fraud['Fraud']\n",
    "X_train_fraud, X_other_fraud, y_train_fraud, y_other_fraud = train_test_split(claims_fraud_x, claims_fraud_y, test_size=0.7, random_state = 657)\n",
    "X_test_fraud, X_valid_fraud, y_test_fraud, y_valid_fraud = train_test_split(X_other_fraud, y_other_fraud, train_size = 0.5, random_state=391)\n",
    "X_train_fraud = preprocess(X_train_fraud)\n",
    "X_test_fraud = preprocess(X_test_fraud)\n",
    "X_valid_fraud = preprocess(X_valid_fraud)\n",
    "X_train_fraud = preprocessing.MinMaxScaler().fit_transform(X_train_fraud.values)\n",
    "X_test_fraud = preprocessing.MinMaxScaler().fit_transform(X_test_fraud.values)\n",
    "X_valid_fraud = preprocessing.MinMaxScaler().fit_transform(X_valid_fraud.values)"
   ]
  },
  {
   "cell_type": "code",
   "execution_count": 41,
   "metadata": {
    "ExecuteTime": {
     "end_time": "2022-03-08T20:28:07.828772Z",
     "start_time": "2022-03-08T20:28:07.803308Z"
    }
   },
   "outputs": [],
   "source": [
    "#concat the dataset to makesure in the test dataset the fraud cases are evenly allocated\n",
    "X_test = np.concatenate([X_test_nonfraud, X_test_fraud])\n",
    "y_test = np.concatenate([y_test_nonfraud,y_test_fraud])\n",
    "X_valid = np.concatenate([X_valid_nonfraud, X_valid_fraud])\n",
    "y_valid = np.concatenate([y_valid_nonfraud, y_valid_fraud])"
   ]
  },
  {
   "cell_type": "markdown",
   "metadata": {},
   "source": [
    "7. Using TensorFlow, create an autoencoder, ensuring that the middle hidden layer has fewer neurons than your input has features. Use training and validation sets to find a model that represents its input data well. In particular, you will want to predict your validation set observations. For each observation, you can measure the difference between the original observations and the predicted one, using, for example, the mean squared error of all features of the observation. Plot the errors for all your validation set observations in a histogram - in a good model, this error should be much higher for fraudulent claims than non-fraudulent ones."
   ]
  },
  {
   "cell_type": "code",
   "execution_count": 42,
   "metadata": {
    "ExecuteTime": {
     "end_time": "2022-03-08T20:28:08.380664Z",
     "start_time": "2022-03-08T20:28:08.368215Z"
    }
   },
   "outputs": [],
   "source": [
    "#clean the session      \n",
    "tf.keras.backend.clear_session()\n",
    "np.random.seed(231)\n",
    "tf.random.set_seed(631)"
   ]
  },
  {
   "cell_type": "code",
   "execution_count": 43,
   "metadata": {
    "ExecuteTime": {
     "end_time": "2022-03-08T20:28:08.951850Z",
     "start_time": "2022-03-08T20:28:08.938979Z"
    }
   },
   "outputs": [],
   "source": [
    "def train_autoencoder(hp):    \n",
    "    optim_algo = hp.Choice('optimizer', values=['sgd','adam']) \n",
    "    learning_rate = hp.Float('learning_rate', min_value = 0.001, max_value=1, sampling='log') \n",
    "    \n",
    "    encoder = tf.keras.models.Sequential([\n",
    "        tf.keras.layers.Dense(225, activation=\"relu\", input_shape=X_train_nonfraud.shape[1:],\n",
    "        activity_regularizer=tf.keras.regularizers.L1(0.001)),\n",
    "        tf.keras.layers.Dense(14, activation=\"relu\"),\n",
    "        tf.keras.layers.Dense(10, activation=\"relu\"),\n",
    "        tf.keras.layers.Dense(6, activation=\"relu\"),]) \n",
    "\n",
    "    decoder = tf.keras.Sequential([\n",
    "    tf.keras.layers.Dense(6, activation=\"relu\"),\n",
    "    tf.keras.layers.Dense(10, activation=\"relu\"),\n",
    "    tf.keras.layers.Dense(14, activation=\"relu\"),\n",
    "    tf.keras.layers.Dense(225, activation=\"sigmoid\")])\n",
    "    \n",
    "    autoencoder = tf.keras.Sequential([encoder,decoder])\n",
    "    \n",
    "    if optim_algo == 'sgd':\n",
    "        optimizer = tf.keras.optimizers.SGD(learning_rate=learning_rate,clipvalue=1)\n",
    "    elif optim_algo == 'adam':\n",
    "        optimizer = tf.keras.optimizers.Adam(learning_rate=learning_rate)\n",
    "            \n",
    "    autoencoder.compile(optimizer=optimizer,\n",
    "                loss='mean_squared_error')\n",
    "    \n",
    "    return autoencoder"
   ]
  },
  {
   "cell_type": "code",
   "execution_count": 44,
   "metadata": {
    "ExecuteTime": {
     "end_time": "2022-03-08T20:29:49.987909Z",
     "start_time": "2022-03-08T20:28:09.521745Z"
    }
   },
   "outputs": [
    {
     "name": "stdout",
     "output_type": "stream",
     "text": [
      "Trial 30 Complete [00h 00m 07s]\n",
      "val_loss: 0.03673529624938965\n",
      "\n",
      "Best val_loss So Far: 0.020960940048098564\n",
      "Total elapsed time: 00h 01m 40s\n",
      "INFO:tensorflow:Oracle triggered exit\n"
     ]
    }
   ],
   "source": [
    "#build the model for autoencoder\n",
    "tuner = kt.Hyperband(train_autoencoder,\n",
    "                     objective='val_loss',\n",
    "                     max_epochs=10,\n",
    "                     factor=3,\n",
    "                     directory='logs4',s\n",
    "                     project_name='group_assignment_autoencoder')\n",
    "tuner.search(X_train_nonfraud, X_train_nonfraud, validation_data=(X_valid,X_valid))"
   ]
  },
  {
   "cell_type": "code",
   "execution_count": 45,
   "metadata": {
    "ExecuteTime": {
     "end_time": "2022-03-08T20:29:50.685283Z",
     "start_time": "2022-03-08T20:29:50.677450Z"
    }
   },
   "outputs": [
    {
     "name": "stdout",
     "output_type": "stream",
     "text": [
      "Best learning rate: 0.0033497029949067455\n",
      "Best optimizer: adam\n"
     ]
    }
   ],
   "source": [
    "#get the best hyperparameters\n",
    "best_hps = tuner.get_best_hyperparameters()[0]\n",
    "print(\"Best learning rate: \" + str(best_hps['learning_rate']))\n",
    "print(\"Best optimizer: \" + str(best_hps['optimizer']))"
   ]
  },
  {
   "cell_type": "code",
   "execution_count": 46,
   "metadata": {
    "ExecuteTime": {
     "end_time": "2022-03-08T20:29:51.645839Z",
     "start_time": "2022-03-08T20:29:51.498048Z"
    }
   },
   "outputs": [],
   "source": [
    "best_model_autoencoder = tuner.hypermodel.build(best_hps)"
   ]
  },
  {
   "cell_type": "code",
   "execution_count": 47,
   "metadata": {
    "ExecuteTime": {
     "end_time": "2022-03-08T20:29:52.396241Z",
     "start_time": "2022-03-08T20:29:52.334282Z"
    }
   },
   "outputs": [
    {
     "name": "stdout",
     "output_type": "stream",
     "text": [
      "Model: \"sequential_5\"\n",
      "_________________________________________________________________\n",
      " Layer (type)                Output Shape              Param #   \n",
      "=================================================================\n",
      " sequential_3 (Sequential)   (None, 6)                 54230     \n",
      "                                                                 \n",
      " sequential_4 (Sequential)   (None, 225)               3641      \n",
      "                                                                 \n",
      "=================================================================\n",
      "Total params: 57,871\n",
      "Trainable params: 57,871\n",
      "Non-trainable params: 0\n",
      "_________________________________________________________________\n"
     ]
    }
   ],
   "source": [
    "#get the information of autoencoder\n",
    "best_model_autoencoder.summary()"
   ]
  },
  {
   "cell_type": "code",
   "execution_count": 48,
   "metadata": {
    "ExecuteTime": {
     "end_time": "2022-03-08T20:30:33.940778Z",
     "start_time": "2022-03-08T20:30:33.925360Z"
    }
   },
   "outputs": [],
   "source": [
    "best_model_autoencoder.compile(loss=tf.keras.losses.MeanSquaredError(),metrics=['accuracy'])"
   ]
  },
  {
   "cell_type": "code",
   "execution_count": 49,
   "metadata": {
    "ExecuteTime": {
     "end_time": "2022-03-08T20:30:52.597564Z",
     "start_time": "2022-03-08T20:30:34.781003Z"
    }
   },
   "outputs": [
    {
     "name": "stdout",
     "output_type": "stream",
     "text": [
      "Epoch 1/30\n",
      "107/107 [==============================] - 1s 5ms/step - loss: 0.1005 - accuracy: 0.0000e+00 - val_loss: 0.0344 - val_accuracy: 0.0000e+00\n",
      "Epoch 2/30\n",
      "107/107 [==============================] - 0s 4ms/step - loss: 0.0291 - accuracy: 0.0000e+00 - val_loss: 0.0269 - val_accuracy: 0.0000e+00\n",
      "Epoch 3/30\n",
      "107/107 [==============================] - 1s 5ms/step - loss: 0.0266 - accuracy: 0.0000e+00 - val_loss: 0.0262 - val_accuracy: 0.0000e+00\n",
      "Epoch 4/30\n",
      "107/107 [==============================] - 1s 5ms/step - loss: 0.0258 - accuracy: 0.0000e+00 - val_loss: 0.0251 - val_accuracy: 0.0000e+00\n",
      "Epoch 5/30\n",
      "107/107 [==============================] - 1s 5ms/step - loss: 0.0247 - accuracy: 0.0000e+00 - val_loss: 0.0240 - val_accuracy: 0.0000e+00\n",
      "Epoch 6/30\n",
      "107/107 [==============================] - 0s 5ms/step - loss: 0.0237 - accuracy: 0.0000e+00 - val_loss: 0.0232 - val_accuracy: 0.0000e+00\n",
      "Epoch 7/30\n",
      "107/107 [==============================] - 1s 6ms/step - loss: 0.0230 - accuracy: 0.0000e+00 - val_loss: 0.0224 - val_accuracy: 0.0012\n",
      "Epoch 8/30\n",
      "107/107 [==============================] - 1s 5ms/step - loss: 0.0222 - accuracy: 0.0660 - val_loss: 0.0217 - val_accuracy: 0.1343\n",
      "Epoch 9/30\n",
      "107/107 [==============================] - 1s 6ms/step - loss: 0.0217 - accuracy: 0.2681 - val_loss: 0.0214 - val_accuracy: 0.3173\n",
      "Epoch 10/30\n",
      "107/107 [==============================] - 1s 6ms/step - loss: 0.0214 - accuracy: 0.3163 - val_loss: 0.0211 - val_accuracy: 0.3361\n",
      "Epoch 11/30\n",
      "107/107 [==============================] - 1s 6ms/step - loss: 0.0212 - accuracy: 0.3768 - val_loss: 0.0210 - val_accuracy: 0.4555\n",
      "Epoch 12/30\n",
      "107/107 [==============================] - 1s 5ms/step - loss: 0.0210 - accuracy: 0.4471 - val_loss: 0.0209 - val_accuracy: 0.4716\n",
      "Epoch 13/30\n",
      "107/107 [==============================] - 1s 5ms/step - loss: 0.0209 - accuracy: 0.4647 - val_loss: 0.0207 - val_accuracy: 0.4768\n",
      "Epoch 14/30\n",
      "107/107 [==============================] - 1s 5ms/step - loss: 0.0208 - accuracy: 0.5006 - val_loss: 0.0207 - val_accuracy: 0.5395\n",
      "Epoch 15/30\n",
      "107/107 [==============================] - 1s 5ms/step - loss: 0.0207 - accuracy: 0.5266 - val_loss: 0.0207 - val_accuracy: 0.5536\n",
      "Epoch 16/30\n",
      "107/107 [==============================] - 1s 6ms/step - loss: 0.0206 - accuracy: 0.5304 - val_loss: 0.0205 - val_accuracy: 0.5509\n",
      "Epoch 17/30\n",
      "107/107 [==============================] - 1s 6ms/step - loss: 0.0205 - accuracy: 0.5330 - val_loss: 0.0205 - val_accuracy: 0.4929\n",
      "Epoch 18/30\n",
      "107/107 [==============================] - 0s 4ms/step - loss: 0.0205 - accuracy: 0.5339 - val_loss: 0.0204 - val_accuracy: 0.5459\n",
      "Epoch 19/30\n",
      "107/107 [==============================] - 0s 5ms/step - loss: 0.0204 - accuracy: 0.5388 - val_loss: 0.0203 - val_accuracy: 0.5502\n",
      "Epoch 20/30\n",
      "107/107 [==============================] - 0s 5ms/step - loss: 0.0203 - accuracy: 0.5362 - val_loss: 0.0202 - val_accuracy: 0.5499\n",
      "Epoch 21/30\n",
      "107/107 [==============================] - 1s 5ms/step - loss: 0.0203 - accuracy: 0.5356 - val_loss: 0.0201 - val_accuracy: 0.5333\n",
      "Epoch 22/30\n",
      "107/107 [==============================] - 1s 7ms/step - loss: 0.0202 - accuracy: 0.5365 - val_loss: 0.0201 - val_accuracy: 0.5365\n",
      "Epoch 23/30\n",
      "107/107 [==============================] - 1s 6ms/step - loss: 0.0201 - accuracy: 0.5368 - val_loss: 0.0201 - val_accuracy: 0.5427\n",
      "Epoch 24/30\n",
      "107/107 [==============================] - 1s 6ms/step - loss: 0.0201 - accuracy: 0.5353 - val_loss: 0.0200 - val_accuracy: 0.5289\n",
      "Epoch 25/30\n",
      "107/107 [==============================] - 1s 7ms/step - loss: 0.0200 - accuracy: 0.5324 - val_loss: 0.0199 - val_accuracy: 0.5519\n",
      "Epoch 26/30\n",
      "107/107 [==============================] - 1s 5ms/step - loss: 0.0200 - accuracy: 0.5380 - val_loss: 0.0199 - val_accuracy: 0.5326\n",
      "Epoch 27/30\n",
      "107/107 [==============================] - 1s 5ms/step - loss: 0.0199 - accuracy: 0.5403 - val_loss: 0.0199 - val_accuracy: 0.5256\n",
      "Epoch 28/30\n",
      "107/107 [==============================] - 0s 4ms/step - loss: 0.0199 - accuracy: 0.5400 - val_loss: 0.0198 - val_accuracy: 0.5346\n",
      "Epoch 29/30\n",
      "107/107 [==============================] - 0s 4ms/step - loss: 0.0199 - accuracy: 0.5377 - val_loss: 0.0198 - val_accuracy: 0.5474\n",
      "Epoch 30/30\n",
      "107/107 [==============================] - 0s 4ms/step - loss: 0.0199 - accuracy: 0.5397 - val_loss: 0.0198 - val_accuracy: 0.5308\n"
     ]
    }
   ],
   "source": [
    "#fit model and validate with nonfraud dataset\n",
    "log = best_model_autoencoder.fit(x=X_train_nonfraud, y=X_train_nonfraud,\n",
    "                epochs=30,\n",
    "                validation_data=(X_valid, X_valid))"
   ]
  },
  {
   "cell_type": "code",
   "execution_count": 50,
   "metadata": {
    "ExecuteTime": {
     "end_time": "2022-03-08T20:30:57.267679Z",
     "start_time": "2022-03-08T20:30:57.103092Z"
    }
   },
   "outputs": [
    {
     "data": {
      "image/png": "[encoded data removed]",
      "text/plain": [
       "<Figure size 432x288 with 1 Axes>"
      ]
     },
     "metadata": {
      "needs_background": "light"
     },
     "output_type": "display_data"
    }
   ],
   "source": [
    "plt.plot(log.history['loss'],label = \"training loss\")\n",
    "plt.plot(log.history['val_loss'], label = \"validation loss\")\n",
    "plt.legend()\n",
    "plt.show()"
   ]
  },
  {
   "cell_type": "code",
   "execution_count": 51,
   "metadata": {
    "ExecuteTime": {
     "end_time": "2022-03-08T20:31:08.005220Z",
     "start_time": "2022-03-08T20:30:57.996316Z"
    }
   },
   "outputs": [
    {
     "name": "stdout",
     "output_type": "stream",
     "text": [
      "Epoch 1/20\n",
      "107/107 [==============================] - 1s 5ms/step - loss: 0.0199 - accuracy: 0.5397 - val_loss: 0.0198 - val_accuracy: 0.5498\n",
      "Epoch 2/20\n",
      "107/107 [==============================] - 0s 4ms/step - loss: 0.0198 - accuracy: 0.5409 - val_loss: 0.0197 - val_accuracy: 0.5408\n",
      "Epoch 3/20\n",
      "107/107 [==============================] - 0s 4ms/step - loss: 0.0198 - accuracy: 0.5426 - val_loss: 0.0197 - val_accuracy: 0.5380\n",
      "Epoch 4/20\n",
      "107/107 [==============================] - 0s 5ms/step - loss: 0.0198 - accuracy: 0.5423 - val_loss: 0.0197 - val_accuracy: 0.5308\n",
      "Epoch 5/20\n",
      "107/107 [==============================] - 0s 4ms/step - loss: 0.0198 - accuracy: 0.5459 - val_loss: 0.0197 - val_accuracy: 0.5378\n",
      "Epoch 6/20\n",
      "107/107 [==============================] - 0s 4ms/step - loss: 0.0198 - accuracy: 0.5467 - val_loss: 0.0196 - val_accuracy: 0.5526\n",
      "Epoch 7/20\n",
      "107/107 [==============================] - 0s 4ms/step - loss: 0.0197 - accuracy: 0.5511 - val_loss: 0.0197 - val_accuracy: 0.5573\n",
      "Epoch 8/20\n",
      "107/107 [==============================] - 0s 5ms/step - loss: 0.0197 - accuracy: 0.5537 - val_loss: 0.0195 - val_accuracy: 0.5513\n",
      "Epoch 9/20\n",
      "107/107 [==============================] - 0s 4ms/step - loss: 0.0197 - accuracy: 0.5502 - val_loss: 0.0196 - val_accuracy: 0.5611\n",
      "Epoch 10/20\n",
      "107/107 [==============================] - 1s 6ms/step - loss: 0.0197 - accuracy: 0.5520 - val_loss: 0.0195 - val_accuracy: 0.5561\n",
      "Epoch 11/20\n",
      "107/107 [==============================] - 1s 5ms/step - loss: 0.0197 - accuracy: 0.5511 - val_loss: 0.0195 - val_accuracy: 0.5551\n",
      "Epoch 12/20\n",
      "107/107 [==============================] - 0s 5ms/step - loss: 0.0196 - accuracy: 0.5558 - val_loss: 0.0195 - val_accuracy: 0.5498\n",
      "Epoch 13/20\n",
      "107/107 [==============================] - 0s 4ms/step - loss: 0.0196 - accuracy: 0.5511 - val_loss: 0.0196 - val_accuracy: 0.5611\n",
      "Epoch 14/20\n",
      "107/107 [==============================] - 0s 4ms/step - loss: 0.0195 - accuracy: 0.5456 - val_loss: 0.0193 - val_accuracy: 0.5480\n",
      "Epoch 15/20\n",
      "107/107 [==============================] - 1s 6ms/step - loss: 0.0195 - accuracy: 0.5426 - val_loss: 0.0193 - val_accuracy: 0.5503\n",
      "Epoch 16/20\n",
      "107/107 [==============================] - 1s 5ms/step - loss: 0.0194 - accuracy: 0.5429 - val_loss: 0.0192 - val_accuracy: 0.5410\n",
      "Epoch 17/20\n",
      "107/107 [==============================] - 1s 5ms/step - loss: 0.0194 - accuracy: 0.5426 - val_loss: 0.0191 - val_accuracy: 0.5501\n",
      "Epoch 18/20\n",
      "107/107 [==============================] - 1s 5ms/step - loss: 0.0193 - accuracy: 0.5350 - val_loss: 0.0191 - val_accuracy: 0.5470\n",
      "Epoch 19/20\n",
      "107/107 [==============================] - 0s 5ms/step - loss: 0.0193 - accuracy: 0.5383 - val_loss: 0.0192 - val_accuracy: 0.5313\n",
      "Epoch 20/20\n",
      "107/107 [==============================] - 0s 4ms/step - loss: 0.0193 - accuracy: 0.5348 - val_loss: 0.0191 - val_accuracy: 0.5240\n"
     ]
    }
   ],
   "source": [
    "#fit model and validate with nonfraud dataset\n",
    "log1 = best_model_autoencoder.fit(x=X_train_nonfraud, y=X_train_nonfraud,\n",
    "                epochs=20,\n",
    "                validation_data=(X_valid_nonfraud, X_valid_nonfraud))"
   ]
  },
  {
   "cell_type": "code",
   "execution_count": 52,
   "metadata": {
    "ExecuteTime": {
     "end_time": "2022-03-08T20:31:08.566437Z",
     "start_time": "2022-03-08T20:31:08.551458Z"
    }
   },
   "outputs": [],
   "source": [
    "#clean the session\n",
    "tf.keras.backend.clear_session()\n",
    "np.random.seed(231)\n",
    "tf.random.set_seed(631)"
   ]
  },
  {
   "cell_type": "code",
   "execution_count": 53,
   "metadata": {
    "ExecuteTime": {
     "end_time": "2022-03-08T20:31:21.380213Z",
     "start_time": "2022-03-08T20:31:14.093079Z"
    }
   },
   "outputs": [
    {
     "name": "stdout",
     "output_type": "stream",
     "text": [
      "Epoch 1/20\n",
      "107/107 [==============================] - 1s 3ms/step - loss: 0.0192 - accuracy: 0.5286 - val_loss: 0.0271 - val_accuracy: 0.3415\n",
      "Epoch 2/20\n",
      "107/107 [==============================] - 0s 3ms/step - loss: 0.0192 - accuracy: 0.5307 - val_loss: 0.0270 - val_accuracy: 0.3415\n",
      "Epoch 3/20\n",
      "107/107 [==============================] - 0s 3ms/step - loss: 0.0192 - accuracy: 0.5251 - val_loss: 0.0270 - val_accuracy: 0.3415\n",
      "Epoch 4/20\n",
      "107/107 [==============================] - 0s 3ms/step - loss: 0.0192 - accuracy: 0.5365 - val_loss: 0.0268 - val_accuracy: 0.3415\n",
      "Epoch 5/20\n",
      "107/107 [==============================] - 0s 3ms/step - loss: 0.0192 - accuracy: 0.5350 - val_loss: 0.0271 - val_accuracy: 0.3415\n",
      "Epoch 6/20\n",
      "107/107 [==============================] - 0s 3ms/step - loss: 0.0192 - accuracy: 0.5307 - val_loss: 0.0270 - val_accuracy: 0.3415\n",
      "Epoch 7/20\n",
      "107/107 [==============================] - 0s 3ms/step - loss: 0.0191 - accuracy: 0.5350 - val_loss: 0.0270 - val_accuracy: 0.3415\n",
      "Epoch 8/20\n",
      "107/107 [==============================] - 0s 3ms/step - loss: 0.0191 - accuracy: 0.5368 - val_loss: 0.0270 - val_accuracy: 0.3415\n",
      "Epoch 9/20\n",
      "107/107 [==============================] - 0s 3ms/step - loss: 0.0191 - accuracy: 0.5312 - val_loss: 0.0270 - val_accuracy: 0.3415\n",
      "Epoch 10/20\n",
      "107/107 [==============================] - 0s 3ms/step - loss: 0.0191 - accuracy: 0.5371 - val_loss: 0.0270 - val_accuracy: 0.3415\n",
      "Epoch 11/20\n",
      "107/107 [==============================] - 0s 3ms/step - loss: 0.0191 - accuracy: 0.5321 - val_loss: 0.0272 - val_accuracy: 0.3415\n",
      "Epoch 12/20\n",
      "107/107 [==============================] - 0s 4ms/step - loss: 0.0191 - accuracy: 0.5342 - val_loss: 0.0268 - val_accuracy: 0.3415\n",
      "Epoch 13/20\n",
      "107/107 [==============================] - 0s 4ms/step - loss: 0.0191 - accuracy: 0.5321 - val_loss: 0.0270 - val_accuracy: 0.3415\n",
      "Epoch 14/20\n",
      "107/107 [==============================] - 0s 3ms/step - loss: 0.0191 - accuracy: 0.5327 - val_loss: 0.0271 - val_accuracy: 0.3415\n",
      "Epoch 15/20\n",
      "107/107 [==============================] - 0s 3ms/step - loss: 0.0190 - accuracy: 0.5368 - val_loss: 0.0270 - val_accuracy: 0.3415\n",
      "Epoch 16/20\n",
      "107/107 [==============================] - 0s 3ms/step - loss: 0.0190 - accuracy: 0.5386 - val_loss: 0.0269 - val_accuracy: 0.3415\n",
      "Epoch 17/20\n",
      "107/107 [==============================] - 0s 3ms/step - loss: 0.0190 - accuracy: 0.5380 - val_loss: 0.0269 - val_accuracy: 0.3415\n",
      "Epoch 18/20\n",
      "107/107 [==============================] - 0s 3ms/step - loss: 0.0190 - accuracy: 0.5345 - val_loss: 0.0269 - val_accuracy: 0.3415\n",
      "Epoch 19/20\n",
      "107/107 [==============================] - 0s 3ms/step - loss: 0.0190 - accuracy: 0.5388 - val_loss: 0.0269 - val_accuracy: 0.3415\n",
      "Epoch 20/20\n",
      "107/107 [==============================] - 0s 4ms/step - loss: 0.0190 - accuracy: 0.5359 - val_loss: 0.0268 - val_accuracy: 0.3415\n"
     ]
    }
   ],
   "source": [
    "#fit model and validate with fraud dataset\n",
    "log2 = best_model_autoencoder.fit(x=X_train_nonfraud, y=X_train_nonfraud,\n",
    "                epochs=20,\n",
    "                validation_data=(X_valid_fraud, X_valid_fraud))"
   ]
  },
  {
   "cell_type": "code",
   "execution_count": 54,
   "metadata": {
    "ExecuteTime": {
     "end_time": "2022-03-08T20:31:21.921457Z",
     "start_time": "2022-03-08T20:31:21.850801Z"
    }
   },
   "outputs": [],
   "source": [
    "#save the model\n",
    "best_model_autoencoder.save(\"autoencoder.h5\")"
   ]
  },
  {
   "cell_type": "code",
   "execution_count": 55,
   "metadata": {
    "ExecuteTime": {
     "end_time": "2022-03-08T20:31:22.785817Z",
     "start_time": "2022-03-08T20:31:22.539970Z"
    }
   },
   "outputs": [
    {
     "data": {
      "text/plain": [
       "Text(0,0.5,'Count')"
      ]
     },
     "execution_count": 55,
     "metadata": {},
     "output_type": "execute_result"
    },
    {
     "data": {
      "image/png": "[encoded data removed]",
      "text/plain": [
       "<Figure size 432x288 with 1 Axes>"
      ]
     },
     "metadata": {
      "needs_background": "light"
     },
     "output_type": "display_data"
    }
   ],
   "source": [
    "#plot the MSE value histogram of non fraud data and fraud data\n",
    "plt.hist(log1.history['val_loss'],color='r', label='nonfraud',alpha=0.5)\n",
    "plt.hist(log2.history['val_loss'], color='b', label='fraud',alpha=0.5)\n",
    "plt.legend()\n",
    "plt.title('Non fraud vs fraud')\n",
    "plt.xlabel('MSE')\n",
    "plt.ylabel('Count')"
   ]
  },
  {
   "cell_type": "markdown",
   "metadata": {},
   "source": [
    "8. Use your trained autoencoder to predict the test set and define the corresponding losses. Create a histogram of your test set claims, clearly marking fraudulent and non- fraudulent claims. Discuss how you could use this to decide whether a transaction is fraudulent or not. Can you also derive an AUC in this approach - if yes, how does it perform compared to the previous approaches?"
   ]
  },
  {
   "cell_type": "code",
   "execution_count": 56,
   "metadata": {
    "ExecuteTime": {
     "end_time": "2022-03-08T20:31:28.416475Z",
     "start_time": "2022-03-08T20:31:28.056669Z"
    }
   },
   "outputs": [
    {
     "data": {
      "text/html": [
       "<div>\n",
       "<style scoped>\n",
       "    .dataframe tbody tr th:only-of-type {\n",
       "        vertical-align: middle;\n",
       "    }\n",
       "\n",
       "    .dataframe tbody tr th {\n",
       "        vertical-align: top;\n",
       "    }\n",
       "\n",
       "    .dataframe thead th {\n",
       "        text-align: right;\n",
       "    }\n",
       "</style>\n",
       "<table border=\"1\" class=\"dataframe\">\n",
       "  <thead>\n",
       "    <tr style=\"text-align: right;\">\n",
       "      <th></th>\n",
       "      <th>Reconstruction_error</th>\n",
       "      <th>True_class</th>\n",
       "    </tr>\n",
       "  </thead>\n",
       "  <tbody>\n",
       "    <tr>\n",
       "      <th>0</th>\n",
       "      <td>0.019166</td>\n",
       "      <td>0</td>\n",
       "    </tr>\n",
       "    <tr>\n",
       "      <th>1</th>\n",
       "      <td>0.015999</td>\n",
       "      <td>0</td>\n",
       "    </tr>\n",
       "    <tr>\n",
       "      <th>2</th>\n",
       "      <td>0.016768</td>\n",
       "      <td>0</td>\n",
       "    </tr>\n",
       "    <tr>\n",
       "      <th>3</th>\n",
       "      <td>0.014107</td>\n",
       "      <td>0</td>\n",
       "    </tr>\n",
       "    <tr>\n",
       "      <th>4</th>\n",
       "      <td>0.026222</td>\n",
       "      <td>0</td>\n",
       "    </tr>\n",
       "    <tr>\n",
       "      <th>...</th>\n",
       "      <td>...</td>\n",
       "      <td>...</td>\n",
       "    </tr>\n",
       "    <tr>\n",
       "      <th>4030</th>\n",
       "      <td>0.025175</td>\n",
       "      <td>1</td>\n",
       "    </tr>\n",
       "    <tr>\n",
       "      <th>4031</th>\n",
       "      <td>0.043128</td>\n",
       "      <td>1</td>\n",
       "    </tr>\n",
       "    <tr>\n",
       "      <th>4032</th>\n",
       "      <td>0.031757</td>\n",
       "      <td>1</td>\n",
       "    </tr>\n",
       "    <tr>\n",
       "      <th>4033</th>\n",
       "      <td>0.014819</td>\n",
       "      <td>1</td>\n",
       "    </tr>\n",
       "    <tr>\n",
       "      <th>4034</th>\n",
       "      <td>0.022637</td>\n",
       "      <td>1</td>\n",
       "    </tr>\n",
       "  </tbody>\n",
       "</table>\n",
       "<p>4035 rows × 2 columns</p>\n",
       "</div>"
      ],
      "text/plain": [
       "      Reconstruction_error  True_class\n",
       "0                 0.019166           0\n",
       "1                 0.015999           0\n",
       "2                 0.016768           0\n",
       "3                 0.014107           0\n",
       "4                 0.026222           0\n",
       "...                    ...         ...\n",
       "4030              0.025175           1\n",
       "4031              0.043128           1\n",
       "4032              0.031757           1\n",
       "4033              0.014819           1\n",
       "4034              0.022637           1\n",
       "\n",
       "[4035 rows x 2 columns]"
      ]
     },
     "execution_count": 56,
     "metadata": {},
     "output_type": "execute_result"
    }
   ],
   "source": [
    "#predict the output and calculate the MSE between original data and predicted data\n",
    "x_predict = best_model_autoencoder.predict(X_test)\n",
    "mse = np.mean(np.power(X_test - x_predict, 2), axis=1)\n",
    "error_df = pd.DataFrame({'Reconstruction_error': mse,\n",
    "                        'True_class': y_test})\n",
    "error_df"
   ]
  },
  {
   "cell_type": "code",
   "execution_count": 57,
   "metadata": {
    "ExecuteTime": {
     "end_time": "2022-03-08T20:31:36.682123Z",
     "start_time": "2022-03-08T20:31:36.469656Z"
    }
   },
   "outputs": [
    {
     "name": "stderr",
     "output_type": "stream",
     "text": [
      "/Users/wengmanchiang/opt/anaconda3/lib/python3.8/site-packages/numpy/core/_asarray.py:102: VisibleDeprecationWarning: Creating an ndarray from ragged nested sequences (which is a list-or-tuple of lists-or-tuples-or ndarrays with different lengths or shapes) is deprecated. If you meant to do this, you must specify 'dtype=object' when creating the ndarray.\n",
      "  return array(a, dtype, copy=False, order=order)\n"
     ]
    },
    {
     "data": {
      "text/plain": [
       "([array([ 0.,  0.,  6., 15.,  5.,  7.,  6.,  1.,  0.,  0.]),\n",
       "  array([439., 783., 966., 941., 483., 242.,  93.,  32.,   9.,   7.])],\n",
       " array([0.00502726, 0.00983247, 0.01463769, 0.0194429 , 0.02424812,\n",
       "        0.02905333, 0.03385855, 0.03866376, 0.04346898, 0.04827419,\n",
       "        0.05307941]),\n",
       " <a list of 2 Lists of Patches objects>)"
      ]
     },
     "execution_count": 57,
     "metadata": {},
     "output_type": "execute_result"
    },
    {
     "data": {
      "image/png": "[encoded data removed]",
      "text/plain": [
       "<Figure size 432x288 with 1 Axes>"
      ]
     },
     "metadata": {
      "needs_background": "light"
     },
     "output_type": "display_data"
    }
   ],
   "source": [
    "#plot the MSE distribution for nonfraud and fraud data\n",
    "error_df_fraud = error_df[error_df['True_class']==1]\n",
    "error_df_nonfraud = error_df[error_df['True_class']==0]\n",
    "plt.hist([error_df_fraud['Reconstruction_error'], error_df_nonfraud['Reconstruction_error']], color=['b','r'], alpha=0.5)"
   ]
  },
  {
   "cell_type": "code",
   "execution_count": 58,
   "metadata": {
    "ExecuteTime": {
     "end_time": "2022-03-08T20:31:39.892858Z",
     "start_time": "2022-03-08T20:31:39.886367Z"
    }
   },
   "outputs": [],
   "source": [
    "#import libraries\n",
    "from sklearn.metrics import confusion_matrix, precision_recall_curve\n",
    "from sklearn.metrics import auc, roc_curve"
   ]
  },
  {
   "cell_type": "code",
   "execution_count": 59,
   "metadata": {
    "ExecuteTime": {
     "end_time": "2022-03-08T20:31:41.079345Z",
     "start_time": "2022-03-08T20:31:40.882484Z"
    }
   },
   "outputs": [
    {
     "data": {
      "image/png": "[encoded data removed]",
      "text/plain": [
       "<Figure size 432x288 with 1 Axes>"
      ]
     },
     "metadata": {
      "needs_background": "light"
     },
     "output_type": "display_data"
    }
   ],
   "source": [
    "#get the threshold based on precision and recall\n",
    "precision_rt, recall_rt, threshold_rt = precision_recall_curve(error_df.True_class, error_df.Reconstruction_error)\n",
    "plt.plot(threshold_rt, precision_rt[1:], label=\"Precision\",linewidth=5)\n",
    "plt.plot(threshold_rt, recall_rt[1:], label=\"Recall\",linewidth=5)\n",
    "plt.title('Precision and recall for different threshold values')\n",
    "plt.xlabel('Threshold')\n",
    "plt.ylabel('Precision/Recall')\n",
    "plt.legend()\n",
    "plt.show()"
   ]
  },
  {
   "cell_type": "code",
   "execution_count": 60,
   "metadata": {
    "ExecuteTime": {
     "end_time": "2022-03-08T20:31:46.043108Z",
     "start_time": "2022-03-08T20:31:45.833118Z"
    }
   },
   "outputs": [
    {
     "name": "stderr",
     "output_type": "stream",
     "text": [
      "/Users/wengmanchiang/opt/anaconda3/lib/python3.8/site-packages/matplotlib/cbook/__init__.py:2064: FutureWarning: Support for multi-dimensional indexing (e.g. `obj[:, None]`) is deprecated and will be removed in a future version.  Convert to a numpy array before indexing instead.\n",
      "  x[:, None]\n",
      "/Users/wengmanchiang/opt/anaconda3/lib/python3.8/site-packages/matplotlib/axes/_base.py:248: FutureWarning: Support for multi-dimensional indexing (e.g. `obj[:, None]`) is deprecated and will be removed in a future version.  Convert to a numpy array before indexing instead.\n",
      "  x = x[:, np.newaxis]\n",
      "/Users/wengmanchiang/opt/anaconda3/lib/python3.8/site-packages/matplotlib/axes/_base.py:250: FutureWarning: Support for multi-dimensional indexing (e.g. `obj[:, None]`) is deprecated and will be removed in a future version.  Convert to a numpy array before indexing instead.\n",
      "  y = y[:, np.newaxis]\n"
     ]
    },
    {
     "data": {
      "image/png": "[encoded data removed]",
      "text/plain": [
       "<Figure size 432x288 with 1 Axes>"
      ]
     },
     "metadata": {
      "needs_background": "light"
     },
     "output_type": "display_data"
    }
   ],
   "source": [
    "#visualise the classification\n",
    "error_df_test = error_df.reset_index()\n",
    "threshold_fixed = 0.037\n",
    "groups = error_df_test.groupby('True_class')\n",
    "fig, ax = plt.subplots()\n",
    "for name, group in groups:\n",
    "    ax.plot(group.index, group.Reconstruction_error, marker='o', ms=3.5, linestyle='',\n",
    "            label= \"Fraud\" if name == 1 else \"NonFraud\")\n",
    "ax.hlines(threshold_fixed, ax.get_xlim()[0], ax.get_xlim()[1], colors=\"r\", zorder=100, label='Threshold')\n",
    "ax.legend()\n",
    "plt.title(\"Reconstruction error for different classes\")\n",
    "plt.ylabel(\"Reconstruction error\")\n",
    "plt.xlabel(\"Data point index\")\n",
    "plt.show()"
   ]
  },
  {
   "cell_type": "code",
   "execution_count": 61,
   "metadata": {
    "ExecuteTime": {
     "end_time": "2022-03-08T20:31:51.047373Z",
     "start_time": "2022-03-08T20:31:50.831714Z"
    }
   },
   "outputs": [
    {
     "data": {
      "image/png": "[encoded data removed]",
      "text/plain": [
       "<Figure size 864x864 with 2 Axes>"
      ]
     },
     "metadata": {
      "needs_background": "light"
     },
     "output_type": "display_data"
    }
   ],
   "source": [
    "#draw the confusion matrix\n",
    "LABELS = [\"Non Fraud\",\"Fraud\"]\n",
    "pred_y = [1 if e > threshold_fixed else 0 for e in error_df.Reconstruction_error.values]\n",
    "conf_matrix = confusion_matrix(error_df.True_class, pred_y)\n",
    "plt.figure(figsize=(12, 12))\n",
    "sns.heatmap(conf_matrix, xticklabels=LABELS, yticklabels=LABELS, annot=True, fmt=\"d\")\n",
    "plt.title(\"Confusion matrix\")\n",
    "plt.ylabel('True class')\n",
    "plt.xlabel('Predicted class')\n",
    "plt.show()"
   ]
  },
  {
   "cell_type": "code",
   "execution_count": 62,
   "metadata": {
    "ExecuteTime": {
     "end_time": "2022-03-08T20:31:56.265985Z",
     "start_time": "2022-03-08T20:31:56.109083Z"
    }
   },
   "outputs": [
    {
     "data": {
      "image/png": "[encoded data removed]",
      "text/plain": [
       "<Figure size 432x288 with 1 Axes>"
      ]
     },
     "metadata": {
      "needs_background": "light"
     },
     "output_type": "display_data"
    }
   ],
   "source": [
    "#draw the roc_auc curve and get the auc value\n",
    "false_pos_rate, true_pos_rate, thresholds = roc_curve(error_df.True_class, error_df.Reconstruction_error)\n",
    "roc_auc = auc(false_pos_rate, true_pos_rate,)\n",
    "plt.plot(false_pos_rate, true_pos_rate, linewidth=5, label='AUC = %0.3f'% roc_auc)\n",
    "plt.plot([0,1],[0,1], linewidth=5)\n",
    "plt.xlim([-0.01, 1])\n",
    "plt.ylim([0, 1.01])\n",
    "plt.legend(loc='lower right')\n",
    "plt.title('Receiver operating characteristic curve (ROC)')\n",
    "plt.ylabel('True Positive Rate')\n",
    "plt.xlabel('False Positive Rate')\n",
    "plt.show()"
   ]
  },
  {
   "cell_type": "markdown",
   "metadata": {},
   "source": [
    "#### -How to decide whether a transaction is fraudulent or not:\n",
    "The decision is made by the MSE value calculated by original data and predicted data. From the prediction of the autoencoder, we get a new 225 variables. Since the principle of autoencoder is to rebuild the features, and we only train non-fraud data with the model, the MSE of fraud data will be relatively higher than the non-fraud data (pattern difference). Hence, clients with higher MSE will be considered as fraud. \n",
    "\n",
    "After obtaining the MSE value, we calculated the threshold from precision and recall to decide above a certain level of MSE will be considered as fraud. The imbalanced data will influence a lot on the accuracy, hence we need to get the balance of precision and recall to make sure retrieved data are relevant but also relevant data will be retrieved.\n",
    "\n",
    "In our case, we pick 0.037 as the threshold. Hence, when the MSE is higher than 0.037, the customer will be classified as fraud.\n",
    "#### - How is the AUC performance compared to previous approaches:\n",
    "The AUC we gained for the model is 0.772, higher than the former approaches (SMOTE and normal splitting), which shows the autoencoder model has a better ability to recognise differences between patterns."
   ]
  },
  {
   "cell_type": "markdown",
   "metadata": {},
   "source": [
    "9. As you know, it is difficult to understand precisely why a neural network makes a\n",
    "specific prediction. Discuss why this might be problematic when the neural network prediction leads to a fraud investigation by the insurance company. What alternatives can you envision that make use of the techniques we have applied and allow for more interpretability and transparency?"
   ]
  },
  {
   "cell_type": "markdown",
   "metadata": {},
   "source": [
    "A neural network model consists of many layers, making it challenging to recognise which variables determine the prediction. This means that there is a possibility that critical variables may be excluded from the data used for training, leading to unreliable predictions. Insurance companies may find it hard to interpret which factors lead to a predicted fraud by the model. Additionally, it may be difficult to identify issues with the model if the model performance deteriorates even with the same input data. This can result in increased investigation costs and delayed claims processing time. \n",
    "\n",
    "The limited visibility of how the model provides a conclusion also suggests a little understanding of biases in the training dataset. It may cause consumers to be subjected to these biases. Hence, organisations may find it more challenging to identify any biases present and eliminate them. Additionally, this may lead to consumers being subjected to these biases, damaging the company's reputation. \n",
    "\n",
    "In order to continuously improve the model, the model could be compared using different methods (e.g. Multi-layer Perceptron, Decision Tree). Also, the performance of models across a diverse range of people could be regularly evaluated to identify if any bias arises."
   ]
  },
  {
   "cell_type": "markdown",
   "metadata": {},
   "source": [
    "10. Use your synthetically extended dataset and train a simple model, such as logistic\n",
    "regression or a decision tree that allows you to interpret why fraud is suspected. Keep track of the accuracy and AUC on a test set made from original data only. How does your model perform compared to the previous models you have developed? Does your model allow you to answer a customer who asks, \"why am I being investigated\"?"
   ]
  },
  {
   "cell_type": "code",
   "execution_count": 249,
   "metadata": {
    "ExecuteTime": {
     "end_time": "2022-03-09T12:12:43.889683Z",
     "start_time": "2022-03-09T12:12:43.880741Z"
    }
   },
   "outputs": [],
   "source": [
    "#import libraries\n",
    "from sklearn.tree import DecisionTreeClassifier\n",
    "from sklearn import metrics"
   ]
  },
  {
   "cell_type": "code",
   "execution_count": 250,
   "metadata": {
    "ExecuteTime": {
     "end_time": "2022-03-09T12:12:48.346981Z",
     "start_time": "2022-03-09T12:12:48.331861Z"
    }
   },
   "outputs": [],
   "source": [
    "#divide data into x and y\n",
    "claims_x = claims.drop([\"Fraud\"], axis = 1)\n",
    "claims_y = claims['Fraud']"
   ]
  },
  {
   "cell_type": "code",
   "execution_count": 251,
   "metadata": {
    "ExecuteTime": {
     "end_time": "2022-03-09T12:12:53.122243Z",
     "start_time": "2022-03-09T12:12:51.785760Z"
    }
   },
   "outputs": [],
   "source": [
    "#split the data and preprocess the data\n",
    "X_train, X_other, y_train, y_other = train_test_split(claims_x, claims_y, test_size=0.7, random_state = 657)\n",
    "X_test, X_valid, y_test, y_valid = train_test_split(X_other, y_other, train_size = 0.5, random_state=391)\n",
    "X_test = preprocess(X_test)\n",
    "X_valid = preprocess(X_valid)"
   ]
  },
  {
   "cell_type": "code",
   "execution_count": 252,
   "metadata": {
    "ExecuteTime": {
     "end_time": "2022-03-09T12:12:56.562871Z",
     "start_time": "2022-03-09T12:12:56.522021Z"
    }
   },
   "outputs": [
    {
     "data": {
      "text/plain": [
       "DecisionTreeClassifier(max_leaf_nodes=8)"
      ]
     },
     "execution_count": 252,
     "metadata": {},
     "output_type": "execute_result"
    }
   ],
   "source": [
    "#train the decision tree by synthetic data\n",
    "classifier_DT = DecisionTreeClassifier(max_leaf_nodes = 8)\n",
    "classifier_DT.fit(X_synth, y_synth)"
   ]
  },
  {
   "cell_type": "code",
   "execution_count": 253,
   "metadata": {
    "ExecuteTime": {
     "end_time": "2022-03-09T12:13:01.087297Z",
     "start_time": "2022-03-09T12:13:00.266486Z"
    }
   },
   "outputs": [
    {
     "data": {
      "image/svg+xml": [
       "<?xml version=\"1.0\" encoding=\"UTF-8\" standalone=\"no\"?>\n",
       "<!DOCTYPE svg PUBLIC \"-//W3C//DTD SVG 1.1//EN\"\n",
       " \"http://www.w3.org/Graphics/SVG/1.1/DTD/svg11.dtd\">\n",
       "<!-- Generated by graphviz version 2.49.3 (0)\n",
       " -->\n",
       "<!-- Title: Tree Pages: 1 -->\n",
       "<svg width=\"966pt\" height=\"552pt\"\n",
       " viewBox=\"0.00 0.00 966.00 552.00\" xmlns=\"http://www.w3.org/2000/svg\" xmlns:xlink=\"http://www.w3.org/1999/xlink\">\n",
       "<g id=\"graph0\" class=\"graph\" transform=\"scale(1 1) rotate(0) translate(4 548)\">\n",
       "<title>Tree</title>\n",
       "<polygon fill=\"white\" stroke=\"transparent\" points=\"-4,4 -4,-548 962,-548 962,4 -4,4\"/>\n",
       "<!-- 0 -->\n",
       "<g id=\"node1\" class=\"node\">\n",
       "<title>0</title>\n",
       "<path fill=\"#eda774\" stroke=\"black\" d=\"M597,-544C597,-544 358,-544 358,-544 352,-544 346,-538 346,-532 346,-532 346,-473 346,-473 346,-467 352,-461 358,-461 358,-461 597,-461 597,-461 603,-461 609,-467 609,-473 609,-473 609,-532 609,-532 609,-538 603,-544 597,-544\"/>\n",
       "<text text-anchor=\"middle\" x=\"477.5\" y=\"-528.8\" font-family=\"Helvetica,sans-Serif\" font-size=\"14.00\">LossDaysAfterFirstSubscription &lt;= 0.21</text>\n",
       "<text text-anchor=\"middle\" x=\"477.5\" y=\"-513.8\" font-family=\"Helvetica,sans-Serif\" font-size=\"14.00\">gini = 0.355</text>\n",
       "<text text-anchor=\"middle\" x=\"477.5\" y=\"-498.8\" font-family=\"Helvetica,sans-Serif\" font-size=\"14.00\">samples = 1482</text>\n",
       "<text text-anchor=\"middle\" x=\"477.5\" y=\"-483.8\" font-family=\"Helvetica,sans-Serif\" font-size=\"14.00\">value = [1140, 342]</text>\n",
       "<text text-anchor=\"middle\" x=\"477.5\" y=\"-468.8\" font-family=\"Helvetica,sans-Serif\" font-size=\"14.00\">class = Not Fraud</text>\n",
       "</g>\n",
       "<!-- 1 -->\n",
       "<g id=\"node2\" class=\"node\">\n",
       "<title>1</title>\n",
       "<path fill=\"#d3e9f9\" stroke=\"black\" d=\"M484,-425C484,-425 237,-425 237,-425 231,-425 225,-419 225,-413 225,-413 225,-354 225,-354 225,-348 231,-342 237,-342 237,-342 484,-342 484,-342 490,-342 496,-348 496,-354 496,-354 496,-413 496,-413 496,-419 490,-425 484,-425\"/>\n",
       "<text text-anchor=\"middle\" x=\"360.5\" y=\"-409.8\" font-family=\"Helvetica,sans-Serif\" font-size=\"14.00\">ClaimCause_WindscreenDamage &lt;= 0.5</text>\n",
       "<text text-anchor=\"middle\" x=\"360.5\" y=\"-394.8\" font-family=\"Helvetica,sans-Serif\" font-size=\"14.00\">gini = 0.492</text>\n",
       "<text text-anchor=\"middle\" x=\"360.5\" y=\"-379.8\" font-family=\"Helvetica,sans-Serif\" font-size=\"14.00\">samples = 382</text>\n",
       "<text text-anchor=\"middle\" x=\"360.5\" y=\"-364.8\" font-family=\"Helvetica,sans-Serif\" font-size=\"14.00\">value = [167, 215]</text>\n",
       "<text text-anchor=\"middle\" x=\"360.5\" y=\"-349.8\" font-family=\"Helvetica,sans-Serif\" font-size=\"14.00\">class = Fraud</text>\n",
       "</g>\n",
       "<!-- 0&#45;&gt;1 -->\n",
       "<g id=\"edge1\" class=\"edge\">\n",
       "<title>0&#45;&gt;1</title>\n",
       "<path fill=\"none\" stroke=\"black\" d=\"M436.91,-460.91C427.65,-451.65 417.73,-441.73 408.21,-432.21\"/>\n",
       "<polygon fill=\"black\" stroke=\"black\" points=\"410.57,-429.62 401.02,-425.02 405.62,-434.57 410.57,-429.62\"/>\n",
       "<text text-anchor=\"middle\" x=\"401.02\" y=\"-446.32\" font-family=\"Helvetica,sans-Serif\" font-size=\"14.00\">True</text>\n",
       "</g>\n",
       "<!-- 2 -->\n",
       "<g id=\"node9\" class=\"node\">\n",
       "<title>2</title>\n",
       "<path fill=\"#e89153\" stroke=\"black\" d=\"M662.5,-425C662.5,-425 526.5,-425 526.5,-425 520.5,-425 514.5,-419 514.5,-413 514.5,-413 514.5,-354 514.5,-354 514.5,-348 520.5,-342 526.5,-342 526.5,-342 662.5,-342 662.5,-342 668.5,-342 674.5,-348 674.5,-354 674.5,-354 674.5,-413 674.5,-413 674.5,-419 668.5,-425 662.5,-425\"/>\n",
       "<text text-anchor=\"middle\" x=\"594.5\" y=\"-409.8\" font-family=\"Helvetica,sans-Serif\" font-size=\"14.00\">ClaimAmount &lt;= 0.088</text>\n",
       "<text text-anchor=\"middle\" x=\"594.5\" y=\"-394.8\" font-family=\"Helvetica,sans-Serif\" font-size=\"14.00\">gini = 0.204</text>\n",
       "<text text-anchor=\"middle\" x=\"594.5\" y=\"-379.8\" font-family=\"Helvetica,sans-Serif\" font-size=\"14.00\">samples = 1100</text>\n",
       "<text text-anchor=\"middle\" x=\"594.5\" y=\"-364.8\" font-family=\"Helvetica,sans-Serif\" font-size=\"14.00\">value = [973, 127]</text>\n",
       "<text text-anchor=\"middle\" x=\"594.5\" y=\"-349.8\" font-family=\"Helvetica,sans-Serif\" font-size=\"14.00\">class = Not Fraud</text>\n",
       "</g>\n",
       "<!-- 0&#45;&gt;2 -->\n",
       "<g id=\"edge8\" class=\"edge\">\n",
       "<title>0&#45;&gt;2</title>\n",
       "<path fill=\"none\" stroke=\"black\" d=\"M518.09,-460.91C527.35,-451.65 537.27,-441.73 546.79,-432.21\"/>\n",
       "<polygon fill=\"black\" stroke=\"black\" points=\"549.38,-434.57 553.98,-425.02 544.43,-429.62 549.38,-434.57\"/>\n",
       "<text text-anchor=\"middle\" x=\"553.98\" y=\"-446.32\" font-family=\"Helvetica,sans-Serif\" font-size=\"14.00\">False</text>\n",
       "</g>\n",
       "<!-- 5 -->\n",
       "<g id=\"node3\" class=\"node\">\n",
       "<title>5</title>\n",
       "<path fill=\"#a2d1f3\" stroke=\"black\" d=\"M282.5,-306C282.5,-306 162.5,-306 162.5,-306 156.5,-306 150.5,-300 150.5,-294 150.5,-294 150.5,-235 150.5,-235 150.5,-229 156.5,-223 162.5,-223 162.5,-223 282.5,-223 282.5,-223 288.5,-223 294.5,-229 294.5,-235 294.5,-235 294.5,-294 294.5,-294 294.5,-300 288.5,-306 282.5,-306\"/>\n",
       "<text text-anchor=\"middle\" x=\"222.5\" y=\"-290.8\" font-family=\"Helvetica,sans-Serif\" font-size=\"14.00\">ClaimAmount &lt;= 0.0</text>\n",
       "<text text-anchor=\"middle\" x=\"222.5\" y=\"-275.8\" font-family=\"Helvetica,sans-Serif\" font-size=\"14.00\">gini = 0.453</text>\n",
       "<text text-anchor=\"middle\" x=\"222.5\" y=\"-260.8\" font-family=\"Helvetica,sans-Serif\" font-size=\"14.00\">samples = 329</text>\n",
       "<text text-anchor=\"middle\" x=\"222.5\" y=\"-245.8\" font-family=\"Helvetica,sans-Serif\" font-size=\"14.00\">value = [114, 215]</text>\n",
       "<text text-anchor=\"middle\" x=\"222.5\" y=\"-230.8\" font-family=\"Helvetica,sans-Serif\" font-size=\"14.00\">class = Fraud</text>\n",
       "</g>\n",
       "<!-- 1&#45;&gt;5 -->\n",
       "<g id=\"edge2\" class=\"edge\">\n",
       "<title>1&#45;&gt;5</title>\n",
       "<path fill=\"none\" stroke=\"black\" d=\"M312.62,-341.91C301.49,-332.47 289.55,-322.34 278.11,-312.65\"/>\n",
       "<polygon fill=\"black\" stroke=\"black\" points=\"280.18,-309.82 270.29,-306.02 275.66,-315.16 280.18,-309.82\"/>\n",
       "</g>\n",
       "<!-- 6 -->\n",
       "<g id=\"node8\" class=\"node\">\n",
       "<title>6</title>\n",
       "<path fill=\"#e58139\" stroke=\"black\" d=\"M428,-298.5C428,-298.5 325,-298.5 325,-298.5 319,-298.5 313,-292.5 313,-286.5 313,-286.5 313,-242.5 313,-242.5 313,-236.5 319,-230.5 325,-230.5 325,-230.5 428,-230.5 428,-230.5 434,-230.5 440,-236.5 440,-242.5 440,-242.5 440,-286.5 440,-286.5 440,-292.5 434,-298.5 428,-298.5\"/>\n",
       "<text text-anchor=\"middle\" x=\"376.5\" y=\"-283.3\" font-family=\"Helvetica,sans-Serif\" font-size=\"14.00\">gini = 0.0</text>\n",
       "<text text-anchor=\"middle\" x=\"376.5\" y=\"-268.3\" font-family=\"Helvetica,sans-Serif\" font-size=\"14.00\">samples = 53</text>\n",
       "<text text-anchor=\"middle\" x=\"376.5\" y=\"-253.3\" font-family=\"Helvetica,sans-Serif\" font-size=\"14.00\">value = [53, 0]</text>\n",
       "<text text-anchor=\"middle\" x=\"376.5\" y=\"-238.3\" font-family=\"Helvetica,sans-Serif\" font-size=\"14.00\">class = Not Fraud</text>\n",
       "</g>\n",
       "<!-- 1&#45;&gt;6 -->\n",
       "<g id=\"edge7\" class=\"edge\">\n",
       "<title>1&#45;&gt;6</title>\n",
       "<path fill=\"none\" stroke=\"black\" d=\"M366.05,-341.91C367.51,-331.2 369.1,-319.62 370.58,-308.78\"/>\n",
       "<polygon fill=\"black\" stroke=\"black\" points=\"374.08,-309.05 371.96,-298.67 367.14,-308.1 374.08,-309.05\"/>\n",
       "</g>\n",
       "<!-- 7 -->\n",
       "<g id=\"node4\" class=\"node\">\n",
       "<title>7</title>\n",
       "<path fill=\"#e68641\" stroke=\"black\" d=\"M115,-179.5C115,-179.5 12,-179.5 12,-179.5 6,-179.5 0,-173.5 0,-167.5 0,-167.5 0,-123.5 0,-123.5 0,-117.5 6,-111.5 12,-111.5 12,-111.5 115,-111.5 115,-111.5 121,-111.5 127,-117.5 127,-123.5 127,-123.5 127,-167.5 127,-167.5 127,-173.5 121,-179.5 115,-179.5\"/>\n",
       "<text text-anchor=\"middle\" x=\"63.5\" y=\"-164.3\" font-family=\"Helvetica,sans-Serif\" font-size=\"14.00\">gini = 0.077</text>\n",
       "<text text-anchor=\"middle\" x=\"63.5\" y=\"-149.3\" font-family=\"Helvetica,sans-Serif\" font-size=\"14.00\">samples = 25</text>\n",
       "<text text-anchor=\"middle\" x=\"63.5\" y=\"-134.3\" font-family=\"Helvetica,sans-Serif\" font-size=\"14.00\">value = [24, 1]</text>\n",
       "<text text-anchor=\"middle\" x=\"63.5\" y=\"-119.3\" font-family=\"Helvetica,sans-Serif\" font-size=\"14.00\">class = Not Fraud</text>\n",
       "</g>\n",
       "<!-- 5&#45;&gt;7 -->\n",
       "<g id=\"edge3\" class=\"edge\">\n",
       "<title>5&#45;&gt;7</title>\n",
       "<path fill=\"none\" stroke=\"black\" d=\"M167.34,-222.91C150.99,-210.88 133.13,-197.73 116.9,-185.79\"/>\n",
       "<polygon fill=\"black\" stroke=\"black\" points=\"118.7,-182.77 108.57,-179.67 114.55,-188.41 118.7,-182.77\"/>\n",
       "</g>\n",
       "<!-- 8 -->\n",
       "<g id=\"node5\" class=\"node\">\n",
       "<title>8</title>\n",
       "<path fill=\"#8cc6f0\" stroke=\"black\" d=\"M333.5,-187C333.5,-187 157.5,-187 157.5,-187 151.5,-187 145.5,-181 145.5,-175 145.5,-175 145.5,-116 145.5,-116 145.5,-110 151.5,-104 157.5,-104 157.5,-104 333.5,-104 333.5,-104 339.5,-104 345.5,-110 345.5,-116 345.5,-116 345.5,-175 345.5,-175 345.5,-181 339.5,-187 333.5,-187\"/>\n",
       "<text text-anchor=\"middle\" x=\"245.5\" y=\"-171.8\" font-family=\"Helvetica,sans-Serif\" font-size=\"14.00\">FpVehicleAgeMonths &lt;= 0.07</text>\n",
       "<text text-anchor=\"middle\" x=\"245.5\" y=\"-156.8\" font-family=\"Helvetica,sans-Serif\" font-size=\"14.00\">gini = 0.417</text>\n",
       "<text text-anchor=\"middle\" x=\"245.5\" y=\"-141.8\" font-family=\"Helvetica,sans-Serif\" font-size=\"14.00\">samples = 304</text>\n",
       "<text text-anchor=\"middle\" x=\"245.5\" y=\"-126.8\" font-family=\"Helvetica,sans-Serif\" font-size=\"14.00\">value = [90, 214]</text>\n",
       "<text text-anchor=\"middle\" x=\"245.5\" y=\"-111.8\" font-family=\"Helvetica,sans-Serif\" font-size=\"14.00\">class = Fraud</text>\n",
       "</g>\n",
       "<!-- 5&#45;&gt;8 -->\n",
       "<g id=\"edge4\" class=\"edge\">\n",
       "<title>5&#45;&gt;8</title>\n",
       "<path fill=\"none\" stroke=\"black\" d=\"M230.48,-222.91C232.12,-214.56 233.87,-205.67 235.57,-197.02\"/>\n",
       "<polygon fill=\"black\" stroke=\"black\" points=\"239.04,-197.51 237.53,-187.02 232.17,-196.16 239.04,-197.51\"/>\n",
       "</g>\n",
       "<!-- 9 -->\n",
       "<g id=\"node6\" class=\"node\">\n",
       "<title>9</title>\n",
       "<path fill=\"#e9965a\" stroke=\"black\" d=\"M226,-68C226,-68 123,-68 123,-68 117,-68 111,-62 111,-56 111,-56 111,-12 111,-12 111,-6 117,0 123,0 123,0 226,0 226,0 232,0 238,-6 238,-12 238,-12 238,-56 238,-56 238,-62 232,-68 226,-68\"/>\n",
       "<text text-anchor=\"middle\" x=\"174.5\" y=\"-52.8\" font-family=\"Helvetica,sans-Serif\" font-size=\"14.00\">gini = 0.245</text>\n",
       "<text text-anchor=\"middle\" x=\"174.5\" y=\"-37.8\" font-family=\"Helvetica,sans-Serif\" font-size=\"14.00\">samples = 28</text>\n",
       "<text text-anchor=\"middle\" x=\"174.5\" y=\"-22.8\" font-family=\"Helvetica,sans-Serif\" font-size=\"14.00\">value = [24, 4]</text>\n",
       "<text text-anchor=\"middle\" x=\"174.5\" y=\"-7.8\" font-family=\"Helvetica,sans-Serif\" font-size=\"14.00\">class = Not Fraud</text>\n",
       "</g>\n",
       "<!-- 8&#45;&gt;9 -->\n",
       "<g id=\"edge5\" class=\"edge\">\n",
       "<title>8&#45;&gt;9</title>\n",
       "<path fill=\"none\" stroke=\"black\" d=\"M219.06,-103.73C213.38,-94.97 207.38,-85.7 201.67,-76.91\"/>\n",
       "<polygon fill=\"black\" stroke=\"black\" points=\"204.47,-74.79 196.09,-68.3 198.6,-78.59 204.47,-74.79\"/>\n",
       "</g>\n",
       "<!-- 10 -->\n",
       "<g id=\"node7\" class=\"node\">\n",
       "<title>10</title>\n",
       "<path fill=\"#77bced\" stroke=\"black\" d=\"M364.5,-68C364.5,-68 268.5,-68 268.5,-68 262.5,-68 256.5,-62 256.5,-56 256.5,-56 256.5,-12 256.5,-12 256.5,-6 262.5,0 268.5,0 268.5,0 364.5,0 364.5,0 370.5,0 376.5,-6 376.5,-12 376.5,-12 376.5,-56 376.5,-56 376.5,-62 370.5,-68 364.5,-68\"/>\n",
       "<text text-anchor=\"middle\" x=\"316.5\" y=\"-52.8\" font-family=\"Helvetica,sans-Serif\" font-size=\"14.00\">gini = 0.364</text>\n",
       "<text text-anchor=\"middle\" x=\"316.5\" y=\"-37.8\" font-family=\"Helvetica,sans-Serif\" font-size=\"14.00\">samples = 276</text>\n",
       "<text text-anchor=\"middle\" x=\"316.5\" y=\"-22.8\" font-family=\"Helvetica,sans-Serif\" font-size=\"14.00\">value = [66, 210]</text>\n",
       "<text text-anchor=\"middle\" x=\"316.5\" y=\"-7.8\" font-family=\"Helvetica,sans-Serif\" font-size=\"14.00\">class = Fraud</text>\n",
       "</g>\n",
       "<!-- 8&#45;&gt;10 -->\n",
       "<g id=\"edge6\" class=\"edge\">\n",
       "<title>8&#45;&gt;10</title>\n",
       "<path fill=\"none\" stroke=\"black\" d=\"M271.94,-103.73C277.62,-94.97 283.62,-85.7 289.33,-76.91\"/>\n",
       "<polygon fill=\"black\" stroke=\"black\" points=\"292.4,-78.59 294.91,-68.3 286.53,-74.79 292.4,-78.59\"/>\n",
       "</g>\n",
       "<!-- 3 -->\n",
       "<g id=\"node10\" class=\"node\">\n",
       "<title>3</title>\n",
       "<path fill=\"#e78b49\" stroke=\"black\" d=\"M658.5,-306C658.5,-306 500.5,-306 500.5,-306 494.5,-306 488.5,-300 488.5,-294 488.5,-294 488.5,-235 488.5,-235 488.5,-229 494.5,-223 500.5,-223 500.5,-223 658.5,-223 658.5,-223 664.5,-223 670.5,-229 670.5,-235 670.5,-235 670.5,-294 670.5,-294 670.5,-300 664.5,-306 658.5,-306\"/>\n",
       "<text text-anchor=\"middle\" x=\"579.5\" y=\"-290.8\" font-family=\"Helvetica,sans-Serif\" font-size=\"14.00\">FirstPartyLiability &lt;= 0.044</text>\n",
       "<text text-anchor=\"middle\" x=\"579.5\" y=\"-275.8\" font-family=\"Helvetica,sans-Serif\" font-size=\"14.00\">gini = 0.14</text>\n",
       "<text text-anchor=\"middle\" x=\"579.5\" y=\"-260.8\" font-family=\"Helvetica,sans-Serif\" font-size=\"14.00\">samples = 1015</text>\n",
       "<text text-anchor=\"middle\" x=\"579.5\" y=\"-245.8\" font-family=\"Helvetica,sans-Serif\" font-size=\"14.00\">value = [938, 77]</text>\n",
       "<text text-anchor=\"middle\" x=\"579.5\" y=\"-230.8\" font-family=\"Helvetica,sans-Serif\" font-size=\"14.00\">class = Not Fraud</text>\n",
       "</g>\n",
       "<!-- 2&#45;&gt;3 -->\n",
       "<g id=\"edge9\" class=\"edge\">\n",
       "<title>2&#45;&gt;3</title>\n",
       "<path fill=\"none\" stroke=\"black\" d=\"M589.3,-341.91C588.23,-333.56 587.09,-324.67 585.98,-316.02\"/>\n",
       "<polygon fill=\"black\" stroke=\"black\" points=\"589.44,-315.49 584.69,-306.02 582.5,-316.38 589.44,-315.49\"/>\n",
       "</g>\n",
       "<!-- 4 -->\n",
       "<g id=\"node13\" class=\"node\">\n",
       "<title>4</title>\n",
       "<path fill=\"#c4e2f7\" stroke=\"black\" d=\"M872.5,-306C872.5,-306 700.5,-306 700.5,-306 694.5,-306 688.5,-300 688.5,-294 688.5,-294 688.5,-235 688.5,-235 688.5,-229 694.5,-223 700.5,-223 700.5,-223 872.5,-223 872.5,-223 878.5,-223 884.5,-229 884.5,-235 884.5,-235 884.5,-294 884.5,-294 884.5,-300 878.5,-306 872.5,-306\"/>\n",
       "<text text-anchor=\"middle\" x=\"786.5\" y=\"-290.8\" font-family=\"Helvetica,sans-Serif\" font-size=\"14.00\">EasinessToStage_0.5 &lt;= 0.5</text>\n",
       "<text text-anchor=\"middle\" x=\"786.5\" y=\"-275.8\" font-family=\"Helvetica,sans-Serif\" font-size=\"14.00\">gini = 0.484</text>\n",
       "<text text-anchor=\"middle\" x=\"786.5\" y=\"-260.8\" font-family=\"Helvetica,sans-Serif\" font-size=\"14.00\">samples = 85</text>\n",
       "<text text-anchor=\"middle\" x=\"786.5\" y=\"-245.8\" font-family=\"Helvetica,sans-Serif\" font-size=\"14.00\">value = [35, 50]</text>\n",
       "<text text-anchor=\"middle\" x=\"786.5\" y=\"-230.8\" font-family=\"Helvetica,sans-Serif\" font-size=\"14.00\">class = Fraud</text>\n",
       "</g>\n",
       "<!-- 2&#45;&gt;4 -->\n",
       "<g id=\"edge12\" class=\"edge\">\n",
       "<title>2&#45;&gt;4</title>\n",
       "<path fill=\"none\" stroke=\"black\" d=\"M661.11,-341.91C677.35,-332.02 694.82,-321.37 711.42,-311.25\"/>\n",
       "<polygon fill=\"black\" stroke=\"black\" points=\"713.29,-314.21 720,-306.02 709.64,-308.24 713.29,-314.21\"/>\n",
       "</g>\n",
       "<!-- 13 -->\n",
       "<g id=\"node11\" class=\"node\">\n",
       "<title>13</title>\n",
       "<path fill=\"#e6843e\" stroke=\"black\" d=\"M510,-179.5C510,-179.5 407,-179.5 407,-179.5 401,-179.5 395,-173.5 395,-167.5 395,-167.5 395,-123.5 395,-123.5 395,-117.5 401,-111.5 407,-111.5 407,-111.5 510,-111.5 510,-111.5 516,-111.5 522,-117.5 522,-123.5 522,-123.5 522,-167.5 522,-167.5 522,-173.5 516,-179.5 510,-179.5\"/>\n",
       "<text text-anchor=\"middle\" x=\"458.5\" y=\"-164.3\" font-family=\"Helvetica,sans-Serif\" font-size=\"14.00\">gini = 0.053</text>\n",
       "<text text-anchor=\"middle\" x=\"458.5\" y=\"-149.3\" font-family=\"Helvetica,sans-Serif\" font-size=\"14.00\">samples = 778</text>\n",
       "<text text-anchor=\"middle\" x=\"458.5\" y=\"-134.3\" font-family=\"Helvetica,sans-Serif\" font-size=\"14.00\">value = [757, 21]</text>\n",
       "<text text-anchor=\"middle\" x=\"458.5\" y=\"-119.3\" font-family=\"Helvetica,sans-Serif\" font-size=\"14.00\">class = Not Fraud</text>\n",
       "</g>\n",
       "<!-- 3&#45;&gt;13 -->\n",
       "<g id=\"edge10\" class=\"edge\">\n",
       "<title>3&#45;&gt;13</title>\n",
       "<path fill=\"none\" stroke=\"black\" d=\"M537.52,-222.91C525.42,-211.21 512.23,-198.46 500.16,-186.78\"/>\n",
       "<polygon fill=\"black\" stroke=\"black\" points=\"502.42,-184.1 492.8,-179.67 497.56,-189.13 502.42,-184.1\"/>\n",
       "</g>\n",
       "<!-- 14 -->\n",
       "<g id=\"node12\" class=\"node\">\n",
       "<title>14</title>\n",
       "<path fill=\"#eda876\" stroke=\"black\" d=\"M655,-179.5C655,-179.5 552,-179.5 552,-179.5 546,-179.5 540,-173.5 540,-167.5 540,-167.5 540,-123.5 540,-123.5 540,-117.5 546,-111.5 552,-111.5 552,-111.5 655,-111.5 655,-111.5 661,-111.5 667,-117.5 667,-123.5 667,-123.5 667,-167.5 667,-167.5 667,-173.5 661,-179.5 655,-179.5\"/>\n",
       "<text text-anchor=\"middle\" x=\"603.5\" y=\"-164.3\" font-family=\"Helvetica,sans-Serif\" font-size=\"14.00\">gini = 0.361</text>\n",
       "<text text-anchor=\"middle\" x=\"603.5\" y=\"-149.3\" font-family=\"Helvetica,sans-Serif\" font-size=\"14.00\">samples = 237</text>\n",
       "<text text-anchor=\"middle\" x=\"603.5\" y=\"-134.3\" font-family=\"Helvetica,sans-Serif\" font-size=\"14.00\">value = [181, 56]</text>\n",
       "<text text-anchor=\"middle\" x=\"603.5\" y=\"-119.3\" font-family=\"Helvetica,sans-Serif\" font-size=\"14.00\">class = Not Fraud</text>\n",
       "</g>\n",
       "<!-- 3&#45;&gt;14 -->\n",
       "<g id=\"edge11\" class=\"edge\">\n",
       "<title>3&#45;&gt;14</title>\n",
       "<path fill=\"none\" stroke=\"black\" d=\"M587.83,-222.91C590.02,-212.2 592.4,-200.62 594.62,-189.78\"/>\n",
       "<polygon fill=\"black\" stroke=\"black\" points=\"598.12,-190.17 596.7,-179.67 591.26,-188.76 598.12,-190.17\"/>\n",
       "</g>\n",
       "<!-- 11 -->\n",
       "<g id=\"node14\" class=\"node\">\n",
       "<title>11</title>\n",
       "<path fill=\"#e99559\" stroke=\"black\" d=\"M815,-179.5C815,-179.5 712,-179.5 712,-179.5 706,-179.5 700,-173.5 700,-167.5 700,-167.5 700,-123.5 700,-123.5 700,-117.5 706,-111.5 712,-111.5 712,-111.5 815,-111.5 815,-111.5 821,-111.5 827,-117.5 827,-123.5 827,-123.5 827,-167.5 827,-167.5 827,-173.5 821,-179.5 815,-179.5\"/>\n",
       "<text text-anchor=\"middle\" x=\"763.5\" y=\"-164.3\" font-family=\"Helvetica,sans-Serif\" font-size=\"14.00\">gini = 0.238</text>\n",
       "<text text-anchor=\"middle\" x=\"763.5\" y=\"-149.3\" font-family=\"Helvetica,sans-Serif\" font-size=\"14.00\">samples = 29</text>\n",
       "<text text-anchor=\"middle\" x=\"763.5\" y=\"-134.3\" font-family=\"Helvetica,sans-Serif\" font-size=\"14.00\">value = [25, 4]</text>\n",
       "<text text-anchor=\"middle\" x=\"763.5\" y=\"-119.3\" font-family=\"Helvetica,sans-Serif\" font-size=\"14.00\">class = Not Fraud</text>\n",
       "</g>\n",
       "<!-- 4&#45;&gt;11 -->\n",
       "<g id=\"edge13\" class=\"edge\">\n",
       "<title>4&#45;&gt;11</title>\n",
       "<path fill=\"none\" stroke=\"black\" d=\"M778.52,-222.91C776.42,-212.2 774.14,-200.62 772.01,-189.78\"/>\n",
       "<polygon fill=\"black\" stroke=\"black\" points=\"775.38,-188.8 770.02,-179.67 768.51,-190.15 775.38,-188.8\"/>\n",
       "</g>\n",
       "<!-- 12 -->\n",
       "<g id=\"node15\" class=\"node\">\n",
       "<title>12</title>\n",
       "<path fill=\"#64b2eb\" stroke=\"black\" d=\"M946,-179.5C946,-179.5 857,-179.5 857,-179.5 851,-179.5 845,-173.5 845,-167.5 845,-167.5 845,-123.5 845,-123.5 845,-117.5 851,-111.5 857,-111.5 857,-111.5 946,-111.5 946,-111.5 952,-111.5 958,-117.5 958,-123.5 958,-123.5 958,-167.5 958,-167.5 958,-173.5 952,-179.5 946,-179.5\"/>\n",
       "<text text-anchor=\"middle\" x=\"901.5\" y=\"-164.3\" font-family=\"Helvetica,sans-Serif\" font-size=\"14.00\">gini = 0.293</text>\n",
       "<text text-anchor=\"middle\" x=\"901.5\" y=\"-149.3\" font-family=\"Helvetica,sans-Serif\" font-size=\"14.00\">samples = 56</text>\n",
       "<text text-anchor=\"middle\" x=\"901.5\" y=\"-134.3\" font-family=\"Helvetica,sans-Serif\" font-size=\"14.00\">value = [10, 46]</text>\n",
       "<text text-anchor=\"middle\" x=\"901.5\" y=\"-119.3\" font-family=\"Helvetica,sans-Serif\" font-size=\"14.00\">class = Fraud</text>\n",
       "</g>\n",
       "<!-- 4&#45;&gt;12 -->\n",
       "<g id=\"edge14\" class=\"edge\">\n",
       "<title>4&#45;&gt;12</title>\n",
       "<path fill=\"none\" stroke=\"black\" d=\"M826.4,-222.91C837.79,-211.32 850.19,-198.7 861.58,-187.11\"/>\n",
       "<polygon fill=\"black\" stroke=\"black\" points=\"864.39,-189.25 868.9,-179.67 859.39,-184.35 864.39,-189.25\"/>\n",
       "</g>\n",
       "</g>\n",
       "</svg>\n"
      ],
      "text/plain": [
       "<graphviz.sources.Source at 0x7fa7ac4ee550>"
      ]
     },
     "execution_count": 253,
     "metadata": {},
     "output_type": "execute_result"
    }
   ],
   "source": [
    "#visualise the tree\n",
    "import graphviz as gp\n",
    "from sklearn.tree import export_graphviz\n",
    "dot_data = export_graphviz(classifier_DT, feature_names = X_synth.columns, filled = True, rounded = True, class_names=['Not Fraud','Fraud'])\n",
    "graph = gp.Source(dot_data)\n",
    "graph"
   ]
  },
  {
   "cell_type": "code",
   "execution_count": 254,
   "metadata": {
    "ExecuteTime": {
     "end_time": "2022-03-09T12:13:05.199080Z",
     "start_time": "2022-03-09T12:13:05.149941Z"
    }
   },
   "outputs": [
    {
     "name": "stdout",
     "output_type": "stream",
     "text": [
      "Auc score is 0.78459049421533 \n",
      " confusion matrix is \n",
      " [[3702  293]\n",
      " [  26   15]] \n",
      " Accuracy score is 0.9209613478691774\n"
     ]
    }
   ],
   "source": [
    "#get the model auc score, confusion matric, and accuracy\n",
    "y_pred_prob = classifier_DT.predict_proba(X_valid)[:,1]\n",
    "auc_score = metrics.roc_auc_score(y_valid, y_pred_prob)\n",
    "y_validation_pred = np.where(y_pred_prob < 0.5, 0, 1)\n",
    "confusionmatrix = metrics.confusion_matrix(y_valid, y_validation_pred)\n",
    "accuracy_score = metrics.accuracy_score(y_valid,y_validation_pred)\n",
    "\n",
    "print('Auc score is',auc_score,'\\n','confusion matrix is','\\n',confusionmatrix,'\\n','Accuracy score is', accuracy_score)"
   ]
  },
  {
   "cell_type": "code",
   "execution_count": 255,
   "metadata": {
    "ExecuteTime": {
     "end_time": "2022-03-09T12:13:09.180220Z",
     "start_time": "2022-03-09T12:13:09.002663Z"
    }
   },
   "outputs": [
    {
     "data": {
      "image/png": "[encoded data removed]",
      "text/plain": [
       "<Figure size 432x288 with 1 Axes>"
      ]
     },
     "metadata": {
      "needs_background": "light"
     },
     "output_type": "display_data"
    }
   ],
   "source": [
    "#plot the model\n",
    "fpr, tpr, thresholds = metrics.roc_curve(y_valid, y_pred_prob)\n",
    "plt.plot(fpr, tpr, linewidth=4)\n",
    "plt.show()"
   ]
  },
  {
   "cell_type": "markdown",
   "metadata": {},
   "source": [
    "#### Model comparison\n",
    "Compared to former models, the decision tree model's AUC is 0.78 and is performing better than the original model and close to the other two approaches. Although the model has the ability to distinguish fraud and non-fraud clients, the  generated datapoint from oversmapling influenced the classification of the \"fraud\" class and it is evident from the FP of 293. \n",
    "\n",
    "Among all the models, the orginal model cannot predict the fraud cases for the rarity of fraud cases. Both SMOTE model and decision tree model used the same training data but SMOTE model has a better performance, which demonstrating that neural network can sense the pattern difference better than decision tree. The autoencoder model has a different approach to rebuild data, hence it's AUC is relatively better when compared to other models.\n",
    "\n",
    "\n",
    "#### How the model define a investigated customer\n",
    "Based on the visualisation of the decision tree model, it presents what variable is considered at each step to classify clients into fraud and non-fraud. In our case, the most important variable is Loss days after the first subscription. Based on the time length that the customer lost their first subscription, then the model considered claims causes' type, claim amount to classify clients, then first party liability, easiness to stage, and vehicle ages to decide the probability of fraud. "
   ]
  }
 ],
 "metadata": {
  "interpreter": {
   "hash": "79172be2b1775ff013791b45a1feeb5b0450a8d288a983b56bf3ebf5e3d02d21"
  },
  "kernelspec": {
   "display_name": "Python 3 (ipykernel)",
   "language": "python",
   "name": "python3"
  },
  "language_info": {
   "codemirror_mode": {
    "name": "ipython",
    "version": 3
   },
   "file_extension": ".py",
   "mimetype": "text/x-python",
   "name": "python",
   "nbconvert_exporter": "python",
   "pygments_lexer": "ipython3",
   "version": "3.8.12"
  },
  "toc": {
   "base_numbering": 1,
   "nav_menu": {},
   "number_sections": true,
   "sideBar": true,
   "skip_h1_title": false,
   "title_cell": "Table of Contents",
   "title_sidebar": "Contents",
   "toc_cell": false,
   "toc_position": {},
   "toc_section_display": true,
   "toc_window_display": false
  },
  "varInspector": {
   "cols": {
    "lenName": 16,
    "lenType": 16,
    "lenVar": 40
   },
   "kernels_config": {
    "python": {
     "delete_cmd_postfix": "",
     "delete_cmd_prefix": "del ",
     "library": "var_list.py",
     "varRefreshCmd": "print(var_dic_list())"
    },
    "r": {
     "delete_cmd_postfix": ") ",
     "delete_cmd_prefix": "rm(",
     "library": "var_list.r",
     "varRefreshCmd": "cat(var_dic_list()) "
    }
   },
   "types_to_exclude": [
    "module",
    "function",
    "builtin_function_or_method",
    "instance",
    "_Feature"
   ],
   "window_display": false
  }
 },
 "nbformat": 4,
 "nbformat_minor": 2
}
